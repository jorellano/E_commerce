{
  "cells": [
    {
      "cell_type": "code",
      "source": [
        "import os\n",
        "import glob\n",
        "import pandas as pd\n",
        "os.chdir(\"e_commerce\")\n"
      ],
      "outputs": [],
      "execution_count": 11,
      "metadata": {
        "collapsed": false,
        "outputHidden": false,
        "inputHidden": false
      }
    },
    {
      "cell_type": "code",
      "source": [
        "extension = 'csv'\n",
        "all_filenames = [i for i in glob.glob('*.{}'.format(extension))]"
      ],
      "outputs": [],
      "execution_count": 13,
      "metadata": {
        "collapsed": false,
        "outputHidden": false,
        "inputHidden": false
      }
    },
    {
      "cell_type": "code",
      "source": [
        "#combine all files in the list\n",
        "combined_csv = pd.concat([pd.read_csv(f) for f in all_filenames ])\n",
        "#export to csv\n",
        "combined_csv.to_csv( \"combined_csv.csv\", index=False, encoding='utf-8-sig')"
      ],
      "outputs": [
        {
          "output_type": "stream",
          "name": "stderr",
          "text": [
            "/anaconda3/lib/python3.7/site-packages/ipykernel_launcher.py:2: FutureWarning: Sorting because non-concatenation axis is not aligned. A future version\n",
            "of pandas will change to not sort by default.\n",
            "\n",
            "To accept the future behavior, pass 'sort=False'.\n",
            "\n",
            "To retain the current behavior and silence the warning, pass 'sort=True'.\n",
            "\n",
            "  \n"
          ]
        }
      ],
      "execution_count": 18,
      "metadata": {
        "collapsed": false,
        "outputHidden": false,
        "inputHidden": false
      }
    },
    {
      "cell_type": "code",
      "source": [
        "ls"
      ],
      "outputs": [
        {
          "output_type": "stream",
          "name": "stdout",
          "text": [
            "EDA.ipynb                              \u001b[31molist_order_payments_dataset.csv\u001b[m\u001b[m*\r\n",
            "README.md                              \u001b[31molist_order_reviews_dataset.csv\u001b[m\u001b[m*\r\n",
            "Untitled.ipynb                         \u001b[31molist_orders_dataset.csv\u001b[m\u001b[m*\r\n",
            "\u001b[34mbrazilian-ecommerce\u001b[m\u001b[m/                   \u001b[31molist_products_dataset.csv\u001b[m\u001b[m*\r\n",
            "combined_csv.csv                       \u001b[31molist_sellers_dataset.csv\u001b[m\u001b[m*\r\n",
            "\u001b[31molist_customers_dataset.csv\u001b[m\u001b[m*           \u001b[31mproduct_category_name_translation.csv\u001b[m\u001b[m*\r\n",
            "\u001b[31molist_geolocation_dataset.csv\u001b[m\u001b[m*         visualizations.ipynb\r\n",
            "\u001b[31molist_order_items_dataset.csv\u001b[m\u001b[m*\r\n"
          ]
        }
      ],
      "execution_count": 19,
      "metadata": {
        "collapsed": false,
        "outputHidden": false,
        "inputHidden": false
      }
    },
    {
      "cell_type": "code",
      "source": [
        "import pandas as pd \n",
        "\n",
        "df = pd.read_csv(\"combined_csv.csv\")"
      ],
      "outputs": [
        {
          "output_type": "stream",
          "name": "stderr",
          "text": [
            "/anaconda3/lib/python3.7/site-packages/IPython/core/interactiveshell.py:3049: DtypeWarning: Columns (0,1,2,3,6,9,11,12,13,14,15,17,18,21,24,25,28,34,35,36,37,38,40,41,42,44) have mixed types. Specify dtype option on import or set low_memory=False.\n",
            "  interactivity=interactivity, compiler=compiler, result=result)\n"
          ]
        }
      ],
      "execution_count": 20,
      "metadata": {
        "collapsed": false,
        "outputHidden": false,
        "inputHidden": false
      }
    },
    {
      "cell_type": "code",
      "source": [
        "df.info()"
      ],
      "outputs": [
        {
          "output_type": "stream",
          "name": "stdout",
          "text": [
            "<class 'pandas.core.frame.DataFrame'>\n",
            "RangeIndex: 1551700 entries, 0 to 1551699\n",
            "Data columns (total 45 columns):\n",
            "customer_city                    99441 non-null object\n",
            "customer_id                      198882 non-null object\n",
            "customer_state                   99443 non-null object\n",
            "customer_unique_id               99443 non-null object\n",
            "customer_zip_code_prefix         99443 non-null float64\n",
            "freight_value                    112650 non-null float64\n",
            "geolocation_city                 1000163 non-null object\n",
            "geolocation_lat                  1000163 non-null float64\n",
            "geolocation_lng                  1000163 non-null float64\n",
            "geolocation_state                1000163 non-null object\n",
            "geolocation_zip_code_prefix      1000163 non-null float64\n",
            "order_approved_at                99281 non-null object\n",
            "order_delivered_carrier_date     97658 non-null object\n",
            "order_delivered_customer_date    96476 non-null object\n",
            "order_estimated_delivery_date    99441 non-null object\n",
            "order_id                         415977 non-null object\n",
            "order_item_id                    112650 non-null float64\n",
            "order_purchase_timestamp         99441 non-null object\n",
            "order_status                     99441 non-null object\n",
            "payment_installments             103886 non-null float64\n",
            "payment_sequential               103886 non-null float64\n",
            "payment_type                     103886 non-null object\n",
            "payment_value                    103886 non-null float64\n",
            "price                            112650 non-null float64\n",
            "product_category_name            32412 non-null object\n",
            "product_category_name_english    71 non-null object\n",
            "product_description_lenght       32341 non-null float64\n",
            "product_height_cm                32949 non-null float64\n",
            "product_id                       145601 non-null object\n",
            "product_length_cm                32949 non-null float64\n",
            "product_name_lenght              32341 non-null float64\n",
            "product_photos_qty               32341 non-null float64\n",
            "product_weight_g                 32949 non-null float64\n",
            "product_width_cm                 32949 non-null float64\n",
            "review_answer_timestamp          100000 non-null object\n",
            "review_comment_message           41753 non-null object\n",
            "review_comment_title             11715 non-null object\n",
            "review_creation_date             99998 non-null object\n",
            "review_id                        99998 non-null object\n",
            "review_score                     99998 non-null float64\n",
            "seller_city                      3095 non-null object\n",
            "seller_id                        115745 non-null object\n",
            "seller_state                     3095 non-null object\n",
            "seller_zip_code_prefix           3095 non-null float64\n",
            "shipping_limit_date              112650 non-null object\n",
            "dtypes: float64(19), object(26)\n",
            "memory usage: 532.7+ MB\n"
          ]
        }
      ],
      "execution_count": 21,
      "metadata": {
        "collapsed": false,
        "outputHidden": false,
        "inputHidden": false
      }
    },
    {
      "cell_type": "code",
      "source": [],
      "outputs": [],
      "execution_count": null,
      "metadata": {
        "collapsed": false,
        "outputHidden": false,
        "inputHidden": false
      }
    }
  ],
  "metadata": {
    "kernel_info": {
      "name": "python3"
    },
    "language_info": {
      "name": "python",
      "version": "3.7.3",
      "mimetype": "text/x-python",
      "codemirror_mode": {
        "name": "ipython",
        "version": 3
      },
      "pygments_lexer": "ipython3",
      "nbconvert_exporter": "python",
      "file_extension": ".py"
    },
    "kernelspec": {
      "name": "python3",
      "language": "python",
      "display_name": "Python 3"
    },
    "nteract": {
      "version": "0.14.3"
    }
  },
  "nbformat": 4,
  "nbformat_minor": 0
}