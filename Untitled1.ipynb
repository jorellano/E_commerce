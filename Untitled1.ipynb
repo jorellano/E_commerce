{
 "cells": [
  {
   "cell_type": "code",
   "execution_count": 11,
   "metadata": {},
   "outputs": [
    {
     "name": "stdout",
     "output_type": "stream",
     "text": [
      "1\n",
      "2\n",
      "3\n",
      "4\n",
      "5\n",
      "6\n",
      "7\n",
      "8\n",
      "9\n",
      "10\n"
     ]
    }
   ],
   "source": [
    "a = 0\n",
    "while a < 10:\n",
    "    a = a + 1\n",
    "    print (a)"
   ]
  },
  {
   "cell_type": "markdown",
   "metadata": {},
   "source": [
    "'a' now equals 0\n",
    "As long as 'a' is less than 10, do the following:\n",
    "\n",
    "    make 'a' one larger than what it already is.\n",
    "    \n",
    "    print\n",
    "    "
   ]
  },
  {
   "cell_type": "markdown",
   "metadata": {},
   "source": [
    "1. is 'a' less than 10? > YES (0)\n",
    "    print 1\n",
    "2. is 'a' less than 10? > YES (1)\n",
    "    print 2\n",
    "...\n",
    "10. is 'a' less than 10? NO (it's 10, therefore not less than 10)\n",
    "\n"
   ]
  },
  {
   "cell_type": "code",
   "execution_count": 6,
   "metadata": {},
   "outputs": [
    {
     "name": "stdout",
     "output_type": "stream",
     "text": [
      "10\n",
      "wow, we've counted x down, and now it equals 9\n",
      "9\n",
      "wow, we've counted x down, and now it equals 8\n",
      "8\n",
      "wow, we've counted x down, and now it equals 7\n",
      "7\n",
      "wow, we've counted x down, and now it equals 6\n",
      "6\n",
      "wow, we've counted x down, and now it equals 5\n",
      "5\n",
      "wow, we've counted x down, and now it equals 4\n",
      "4\n",
      "wow, we've counted x down, and now it equals 3\n",
      "3\n",
      "wow, we've counted x down, and now it equals 2\n",
      "2\n",
      "wow, we've counted x down, and now it equals 1\n",
      "1\n",
      "wow, we've counted x down, and now it equals 0\n",
      "And now the loop has ended.\n"
     ]
    }
   ],
   "source": [
    "# Example\n",
    "\n",
    "x = 10 \n",
    "while x != 0:\n",
    "    print(x)\n",
    "    x = x - 1\n",
    "    print(\"wow, we've counted x down, and now it equals\", x)\n",
    "print( \"And now the loop has ended.\")    "
   ]
  },
  {
   "cell_type": "code",
   "execution_count": null,
   "metadata": {},
   "outputs": [],
   "source": [
    "x = 54\n",
    "while x != "
   ]
  },
  {
   "cell_type": "code",
   "execution_count": 14,
   "metadata": {},
   "outputs": [
    {
     "name": "stdout",
     "output_type": "stream",
     "text": [
      "fizzbuzz\n",
      "1\n",
      "2\n",
      "fizz\n",
      "4\n",
      "5\n",
      "fizz\n",
      "7\n",
      "8\n",
      "fizz\n",
      "10\n",
      "11\n",
      "fizz\n",
      "13\n",
      "14\n",
      "fizz\n",
      "16\n",
      "17\n",
      "fizzbuzz\n",
      "19\n",
      "20\n",
      "fizz\n",
      "22\n",
      "23\n",
      "fizz\n",
      "25\n",
      "26\n",
      "fizz\n",
      "28\n",
      "29\n",
      "fizz\n",
      "31\n",
      "32\n",
      "fizz\n",
      "34\n",
      "35\n",
      "fizzbuzz\n",
      "37\n",
      "38\n",
      "fizz\n",
      "40\n",
      "41\n",
      "fizz\n",
      "43\n",
      "44\n",
      "fizz\n",
      "46\n",
      "47\n",
      "fizz\n",
      "49\n",
      "50\n",
      "fizz\n",
      "52\n",
      "53\n",
      "fizzbuzz\n"
     ]
    }
   ],
   "source": [
    "for fizzbuzz in range(55):\n",
    "    if fizzbuzz %6 == 0 and fizzbuzz %9  == 0:\n",
    "        print(\"fizzbuzz\")\n",
    "        continue\n",
    "    elif fizzbuzz % 3 == 0:\n",
    "        print(\"fizz\")\n",
    "        continue\n",
    "    elif fizzbuzz % 6 == 0:\n",
    "        print(\"buzz\")\n",
    "        continue\n",
    "    print(fizzbuzz)"
   ]
  },
  {
   "cell_type": "code",
   "execution_count": 30,
   "metadata": {},
   "outputs": [
    {
     "name": "stdout",
     "output_type": "stream",
     "text": [
      "1\n",
      "2\n",
      "fizz\n",
      "4\n",
      "buzz\n",
      "fizz\n",
      "7\n",
      "8\n",
      "fizz\n",
      "buzz\n",
      "11\n",
      "fizz\n",
      "13\n",
      "14\n",
      "fizzbuzz\n",
      "16\n",
      "17\n",
      "fizz\n",
      "19\n",
      "buzz\n",
      "fizz\n",
      "22\n",
      "23\n",
      "fizz\n",
      "buzz\n",
      "26\n",
      "fizz\n",
      "28\n",
      "29\n",
      "fizzbuzz\n",
      "31\n",
      "32\n",
      "fizz\n",
      "34\n",
      "buzz\n",
      "fizz\n",
      "37\n",
      "38\n",
      "fizz\n",
      "buzz\n",
      "41\n",
      "fizz\n",
      "43\n",
      "44\n",
      "fizzbuzz\n",
      "46\n",
      "47\n",
      "fizz\n",
      "49\n",
      "buzz\n",
      "fizz\n",
      "52\n",
      "53\n",
      "fizz\n",
      "buzz\n",
      "56\n",
      "fizz\n",
      "58\n",
      "59\n",
      "fizzbuzz\n",
      "61\n",
      "62\n",
      "fizz\n",
      "64\n",
      "buzz\n",
      "fizz\n",
      "67\n",
      "68\n",
      "fizz\n",
      "buzz\n",
      "71\n",
      "fizz\n",
      "73\n",
      "74\n",
      "fizzbuzz\n",
      "76\n",
      "77\n",
      "fizz\n",
      "79\n",
      "buzz\n",
      "fizz\n",
      "82\n",
      "83\n",
      "fizz\n",
      "buzz\n",
      "86\n",
      "fizz\n",
      "88\n",
      "89\n",
      "fizzbuzz\n",
      "91\n",
      "92\n",
      "fizz\n",
      "94\n",
      "buzz\n",
      "fizz\n",
      "97\n",
      "98\n",
      "fizz\n",
      "buzz\n"
     ]
    }
   ],
   "source": [
    "for fizzbuzz in range(1,101):\n",
    "    if fizzbuzz %3 == 0 and fizzbuzz %5 == 0:\n",
    "        print(\"fizzbuzz\")\n",
    "    \n",
    "    elif fizzbuzz %3 == 0 :\n",
    "        print(\"fizz\")\n",
    "    elif fizzbuzz %5 == 0:\n",
    "        print(\"buzz\")\n",
    "    else:\n",
    "        print(fizzbuzz)\n",
    "    \n",
    "        "
   ]
  },
  {
   "cell_type": "code",
   "execution_count": 34,
   "metadata": {},
   "outputs": [
    {
     "name": "stdout",
     "output_type": "stream",
     "text": [
      "hello world 0\n",
      "hello world 1\n",
      "hello world 2\n",
      "hello world 3\n",
      "hello world 4\n"
     ]
    }
   ],
   "source": [
    "for x in range(5):\n",
    "    print(\"hello world\", x)"
   ]
  },
  {
   "cell_type": "code",
   "execution_count": 36,
   "metadata": {},
   "outputs": [
    {
     "name": "stdout",
     "output_type": "stream",
     "text": [
      "hello world 0\n",
      "hello world 1\n",
      "hello world 2\n",
      "hello world 3\n",
      "hello world 4\n"
     ]
    }
   ],
   "source": [
    "for x in range(0,5):\n",
    "    print(\"hello world\", x)"
   ]
  },
  {
   "cell_type": "code",
   "execution_count": 38,
   "metadata": {},
   "outputs": [
    {
     "name": "stdout",
     "output_type": "stream",
     "text": [
      "https://en.wikipedia.org/wiki/1\n",
      "https://en.wikipedia.org/wiki/2\n",
      "https://en.wikipedia.org/wiki/3\n",
      "https://en.wikipedia.org/wiki/4\n",
      "https://en.wikipedia.org/wiki/5\n",
      "https://en.wikipedia.org/wiki/6\n",
      "https://en.wikipedia.org/wiki/7\n",
      "https://en.wikipedia.org/wiki/8\n",
      "https://en.wikipedia.org/wiki/9\n",
      "https://en.wikipedia.org/wiki/10\n",
      "https://en.wikipedia.org/wiki/11\n",
      "https://en.wikipedia.org/wiki/12\n",
      "https://en.wikipedia.org/wiki/13\n",
      "https://en.wikipedia.org/wiki/14\n",
      "https://en.wikipedia.org/wiki/15\n",
      "https://en.wikipedia.org/wiki/16\n",
      "https://en.wikipedia.org/wiki/17\n",
      "https://en.wikipedia.org/wiki/18\n",
      "https://en.wikipedia.org/wiki/19\n",
      "https://en.wikipedia.org/wiki/20\n"
     ]
    }
   ],
   "source": [
    "for yr in range(1, 21):\n",
    "    print(\"https://en.wikipedia.org/wiki/\" + str(yr) )"
   ]
  },
  {
   "cell_type": "code",
   "execution_count": 39,
   "metadata": {},
   "outputs": [
    {
     "name": "stdout",
     "output_type": "stream",
     "text": [
      "https://en.wikipedia.org/wiki/1_(number)\n",
      "https://en.wikipedia.org/wiki/2_(number)\n",
      "https://en.wikipedia.org/wiki/3_(number)\n",
      "https://en.wikipedia.org/wiki/4_(number)\n",
      "https://en.wikipedia.org/wiki/5_(number)\n",
      "https://en.wikipedia.org/wiki/6_(number)\n",
      "https://en.wikipedia.org/wiki/7_(number)\n",
      "https://en.wikipedia.org/wiki/8_(number)\n",
      "https://en.wikipedia.org/wiki/9_(number)\n",
      "https://en.wikipedia.org/wiki/10_(number)\n"
     ]
    }
   ],
   "source": [
    "for whatev in range(1, 11):\n",
    "    print(\"https://en.wikipedia.org/wiki/\" + str(whatev)+ \"_(number)\")"
   ]
  },
  {
   "cell_type": "code",
   "execution_count": 40,
   "metadata": {},
   "outputs": [
    {
     "name": "stdout",
     "output_type": "stream",
     "text": [
      "https://www.whitehouse.gov/briefing-room/statements-and-releases?page=1\n"
     ]
    },
    {
     "ename": "NameError",
     "evalue": "name 'foo_bar_dosomething' is not defined",
     "output_type": "error",
     "traceback": [
      "\u001b[0;31m---------------------------------------------------------------------------\u001b[0m",
      "\u001b[0;31mNameError\u001b[0m                                 Traceback (most recent call last)",
      "\u001b[0;32m<ipython-input-40-4f325d06106e>\u001b[0m in \u001b[0;36m<module>\u001b[0;34m\u001b[0m\n\u001b[1;32m      3\u001b[0m     \u001b[0murl\u001b[0m \u001b[0;34m=\u001b[0m \u001b[0mbase_url\u001b[0m \u001b[0;34m+\u001b[0m \u001b[0mstr\u001b[0m\u001b[0;34m(\u001b[0m\u001b[0mx\u001b[0m\u001b[0;34m)\u001b[0m\u001b[0;34m\u001b[0m\u001b[0;34m\u001b[0m\u001b[0m\n\u001b[1;32m      4\u001b[0m     \u001b[0mprint\u001b[0m\u001b[0;34m(\u001b[0m\u001b[0murl\u001b[0m\u001b[0;34m)\u001b[0m\u001b[0;34m\u001b[0m\u001b[0;34m\u001b[0m\u001b[0m\n\u001b[0;32m----> 5\u001b[0;31m     \u001b[0mfoo_bar_dosomething\u001b[0m\u001b[0;34m(\u001b[0m\u001b[0murl\u001b[0m\u001b[0;34m)\u001b[0m\u001b[0;34m\u001b[0m\u001b[0;34m\u001b[0m\u001b[0m\n\u001b[0m",
      "\u001b[0;31mNameError\u001b[0m: name 'foo_bar_dosomething' is not defined"
     ]
    }
   ],
   "source": [
    "base_url = 'https://www.whitehouse.gov/briefing-room/statements-and-releases?page='\n",
    "for x in range(1, 11):\n",
    "    url = base_url + str(x)\n",
    "    print(url)\n",
    "    foo_bar_dosomething(url)"
   ]
  },
  {
   "cell_type": "code",
   "execution_count": 41,
   "metadata": {},
   "outputs": [
    {
     "name": "stdout",
     "output_type": "stream",
     "text": [
      "https://www.whitehouse.gov/briefing-room/statements-and-releases?page=1\n"
     ]
    },
    {
     "ename": "NameError",
     "evalue": "name 'foo_bar_dosomethin' is not defined",
     "output_type": "error",
     "traceback": [
      "\u001b[0;31m---------------------------------------------------------------------------\u001b[0m",
      "\u001b[0;31mNameError\u001b[0m                                 Traceback (most recent call last)",
      "\u001b[0;32m<ipython-input-41-ca81105b0c6e>\u001b[0m in \u001b[0;36m<module>\u001b[0;34m\u001b[0m\n\u001b[1;32m      3\u001b[0m     \u001b[0murl\u001b[0m \u001b[0;34m=\u001b[0m \u001b[0mbase_url\u001b[0m \u001b[0;34m+\u001b[0m \u001b[0mstr\u001b[0m\u001b[0;34m(\u001b[0m\u001b[0mx\u001b[0m\u001b[0;34m)\u001b[0m\u001b[0;34m\u001b[0m\u001b[0;34m\u001b[0m\u001b[0m\n\u001b[1;32m      4\u001b[0m     \u001b[0mprint\u001b[0m\u001b[0;34m(\u001b[0m\u001b[0murl\u001b[0m\u001b[0;34m)\u001b[0m\u001b[0;34m\u001b[0m\u001b[0;34m\u001b[0m\u001b[0m\n\u001b[0;32m----> 5\u001b[0;31m     \u001b[0mfoo_bar_dosomethin\u001b[0m\u001b[0;34m(\u001b[0m\u001b[0murl\u001b[0m\u001b[0;34m)\u001b[0m\u001b[0;34m\u001b[0m\u001b[0;34m\u001b[0m\u001b[0m\n\u001b[0m",
      "\u001b[0;31mNameError\u001b[0m: name 'foo_bar_dosomethin' is not defined"
     ]
    }
   ],
   "source": [
    "base_url = 'https://www.whitehouse.gov/briefing-room/statements-and-releases?page='\n",
    "for x in range(1, 11):\n",
    "    url = base_url + str(x)\n",
    "    print(url)\n",
    "    foo_bar_dosomethin(url)"
   ]
  },
  {
   "cell_type": "code",
   "execution_count": 42,
   "metadata": {},
   "outputs": [
    {
     "name": "stdout",
     "output_type": "stream",
     "text": [
      "hello world\n",
      "hello world\n",
      "hello world\n",
      "I'm done saying that\n"
     ]
    }
   ],
   "source": [
    "for z in range(3):\n",
    "    print('hello world')\n",
    "print(\"I'm done saying that\")"
   ]
  },
  {
   "cell_type": "markdown",
   "metadata": {},
   "source": [
    "# How to interactivaley test a for-loop\n",
    "\n",
    "\n"
   ]
  },
  {
   "cell_type": "code",
   "execution_count": 46,
   "metadata": {},
   "outputs": [
    {
     "name": "stdout",
     "output_type": "stream",
     "text": [
      "Downloading https://en.wikipedia.org/wiki/0_(number)\n",
      "Downloading https://en.wikipedia.org/wiki/1_(number)\n",
      "Downloading https://en.wikipedia.org/wiki/2_(number)\n",
      "Downloading https://en.wikipedia.org/wiki/3_(number)\n",
      "Downloading https://en.wikipedia.org/wiki/4_(number)\n",
      "Downloading https://en.wikipedia.org/wiki/5_(number)\n",
      "Downloading https://en.wikipedia.org/wiki/6_(number)\n",
      "Downloading https://en.wikipedia.org/wiki/7_(number)\n",
      "Downloading https://en.wikipedia.org/wiki/8_(number)\n",
      "Downloading https://en.wikipedia.org/wiki/9_(number)\n",
      "Downloading https://en.wikipedia.org/wiki/10_(number)\n",
      "Downloading https://en.wikipedia.org/wiki/11_(number)\n",
      "Downloading https://en.wikipedia.org/wiki/12_(number)\n",
      "Downloading https://en.wikipedia.org/wiki/13_(number)\n",
      "Downloading https://en.wikipedia.org/wiki/14_(number)\n",
      "Downloading https://en.wikipedia.org/wiki/15_(number)\n",
      "Downloading https://en.wikipedia.org/wiki/16_(number)\n",
      "Downloading https://en.wikipedia.org/wiki/17_(number)\n",
      "Downloading https://en.wikipedia.org/wiki/18_(number)\n",
      "Downloading https://en.wikipedia.org/wiki/19_(number)\n",
      "Downloading https://en.wikipedia.org/wiki/20_(number)\n",
      "Downloading https://en.wikipedia.org/wiki/21_(number)\n",
      "Downloading https://en.wikipedia.org/wiki/22_(number)\n",
      "Downloading https://en.wikipedia.org/wiki/23_(number)\n",
      "Downloading https://en.wikipedia.org/wiki/24_(number)\n",
      "Downloading https://en.wikipedia.org/wiki/25_(number)\n",
      "Downloading https://en.wikipedia.org/wiki/26_(number)\n",
      "Downloading https://en.wikipedia.org/wiki/27_(number)\n",
      "Downloading https://en.wikipedia.org/wiki/28_(number)\n",
      "Downloading https://en.wikipedia.org/wiki/29_(number)\n",
      "Downloading https://en.wikipedia.org/wiki/30_(number)\n",
      "Downloading https://en.wikipedia.org/wiki/31_(number)\n",
      "Downloading https://en.wikipedia.org/wiki/32_(number)\n",
      "Downloading https://en.wikipedia.org/wiki/33_(number)\n",
      "Downloading https://en.wikipedia.org/wiki/34_(number)\n",
      "Downloading https://en.wikipedia.org/wiki/35_(number)\n",
      "Downloading https://en.wikipedia.org/wiki/36_(number)\n",
      "Downloading https://en.wikipedia.org/wiki/37_(number)\n",
      "Downloading https://en.wikipedia.org/wiki/38_(number)\n",
      "Downloading https://en.wikipedia.org/wiki/39_(number)\n",
      "Downloading https://en.wikipedia.org/wiki/40_(number)\n",
      "Downloading https://en.wikipedia.org/wiki/41_(number)\n",
      "Downloading https://en.wikipedia.org/wiki/42_(number)\n",
      "Downloading https://en.wikipedia.org/wiki/43_(number)\n",
      "Downloading https://en.wikipedia.org/wiki/44_(number)\n",
      "Downloading https://en.wikipedia.org/wiki/45_(number)\n",
      "Downloading https://en.wikipedia.org/wiki/46_(number)\n",
      "Downloading https://en.wikipedia.org/wiki/47_(number)\n",
      "Downloading https://en.wikipedia.org/wiki/48_(number)\n",
      "Downloading https://en.wikipedia.org/wiki/49_(number)\n",
      "Downloading https://en.wikipedia.org/wiki/50_(number)\n",
      "Downloading https://en.wikipedia.org/wiki/51_(number)\n",
      "Downloading https://en.wikipedia.org/wiki/52_(number)\n",
      "Downloading https://en.wikipedia.org/wiki/53_(number)\n",
      "Downloading https://en.wikipedia.org/wiki/54_(number)\n",
      "Downloading https://en.wikipedia.org/wiki/55_(number)\n",
      "Downloading https://en.wikipedia.org/wiki/56_(number)\n",
      "Downloading https://en.wikipedia.org/wiki/57_(number)\n",
      "Downloading https://en.wikipedia.org/wiki/58_(number)\n",
      "Downloading https://en.wikipedia.org/wiki/59_(number)\n",
      "Downloading https://en.wikipedia.org/wiki/60_(number)\n",
      "Downloading https://en.wikipedia.org/wiki/61_(number)\n",
      "Downloading https://en.wikipedia.org/wiki/62_(number)\n",
      "Downloading https://en.wikipedia.org/wiki/63_(number)\n",
      "Downloading https://en.wikipedia.org/wiki/64_(number)\n",
      "Downloading https://en.wikipedia.org/wiki/65_(number)\n",
      "Downloading https://en.wikipedia.org/wiki/66_(number)\n",
      "Downloading https://en.wikipedia.org/wiki/67_(number)\n",
      "Downloading https://en.wikipedia.org/wiki/68_(number)\n",
      "Downloading https://en.wikipedia.org/wiki/69_(number)\n",
      "Downloading https://en.wikipedia.org/wiki/70_(number)\n",
      "Downloading https://en.wikipedia.org/wiki/71_(number)\n",
      "Downloading https://en.wikipedia.org/wiki/72_(number)\n",
      "Downloading https://en.wikipedia.org/wiki/73_(number)\n",
      "Downloading https://en.wikipedia.org/wiki/74_(number)\n",
      "Downloading https://en.wikipedia.org/wiki/75_(number)\n",
      "Downloading https://en.wikipedia.org/wiki/76_(number)\n",
      "Downloading https://en.wikipedia.org/wiki/77_(number)\n",
      "Downloading https://en.wikipedia.org/wiki/78_(number)\n",
      "Downloading https://en.wikipedia.org/wiki/79_(number)\n",
      "Downloading https://en.wikipedia.org/wiki/80_(number)\n",
      "Downloading https://en.wikipedia.org/wiki/81_(number)\n",
      "Downloading https://en.wikipedia.org/wiki/82_(number)\n",
      "Downloading https://en.wikipedia.org/wiki/83_(number)\n",
      "Downloading https://en.wikipedia.org/wiki/84_(number)\n",
      "Downloading https://en.wikipedia.org/wiki/85_(number)\n",
      "Downloading https://en.wikipedia.org/wiki/86_(number)\n",
      "Downloading https://en.wikipedia.org/wiki/87_(number)\n",
      "Downloading https://en.wikipedia.org/wiki/88_(number)\n",
      "Downloading https://en.wikipedia.org/wiki/89_(number)\n",
      "Downloading https://en.wikipedia.org/wiki/90_(number)\n",
      "Downloading https://en.wikipedia.org/wiki/91_(number)\n",
      "Downloading https://en.wikipedia.org/wiki/92_(number)\n",
      "Downloading https://en.wikipedia.org/wiki/93_(number)\n",
      "Downloading https://en.wikipedia.org/wiki/94_(number)\n",
      "Downloading https://en.wikipedia.org/wiki/95_(number)\n",
      "Downloading https://en.wikipedia.org/wiki/96_(number)\n",
      "Downloading https://en.wikipedia.org/wiki/97_(number)\n",
      "Downloading https://en.wikipedia.org/wiki/98_(number)\n",
      "Downloading https://en.wikipedia.org/wiki/99_(number)\n"
     ]
    }
   ],
   "source": [
    "for xval in range(100):\n",
    "    url_part_a = \"https://en.wikipedia.org/wiki/\" \n",
    "    url_part_b = \"_(number)\"\n",
    "    full_url = url_part_a + str(xval) + url_part_b \n",
    "    print(\"Downloading\", full_url)"
   ]
  },
  {
   "cell_type": "code",
   "execution_count": 47,
   "metadata": {},
   "outputs": [
    {
     "name": "stdout",
     "output_type": "stream",
     "text": [
      "H\n",
      "E\n",
      "L\n",
      "L\n",
      "O\n"
     ]
    }
   ],
   "source": [
    "for letter in \"hello\":\n",
    "    print(letter.upper())"
   ]
  },
  {
   "cell_type": "code",
   "execution_count": 48,
   "metadata": {},
   "outputs": [
    {
     "ename": "SyntaxError",
     "evalue": "unexpected EOF while parsing (<ipython-input-48-e4316bfd1a9b>, line 1)",
     "output_type": "error",
     "traceback": [
      "\u001b[0;36m  File \u001b[0;32m\"<ipython-input-48-e4316bfd1a9b>\"\u001b[0;36m, line \u001b[0;32m1\u001b[0m\n\u001b[0;31m    for fizzbuzz in range(1, 51):\u001b[0m\n\u001b[0m                                 ^\u001b[0m\n\u001b[0;31mSyntaxError\u001b[0m\u001b[0;31m:\u001b[0m unexpected EOF while parsing\n"
     ]
    }
   ],
   "source": [
    "for fizzbuzz in range(1, 51):\n",
    "    "
   ]
  },
  {
   "cell_type": "code",
   "execution_count": null,
   "metadata": {},
   "outputs": [],
   "source": []
  },
  {
   "cell_type": "code",
   "execution_count": null,
   "metadata": {},
   "outputs": [],
   "source": []
  },
  {
   "cell_type": "code",
   "execution_count": null,
   "metadata": {},
   "outputs": [],
   "source": []
  },
  {
   "cell_type": "code",
   "execution_count": null,
   "metadata": {},
   "outputs": [],
   "source": []
  }
 ],
 "metadata": {
  "kernelspec": {
   "display_name": "Python 3.7.3 64-bit ('base': conda)",
   "language": "python",
   "name": "python37364bitbaseconda4d7056840ced41d8946fcf1d55f41ac3"
  },
  "language_info": {
   "codemirror_mode": {
    "name": "ipython",
    "version": 3
   },
   "file_extension": ".py",
   "mimetype": "text/x-python",
   "name": "python",
   "nbconvert_exporter": "python",
   "pygments_lexer": "ipython3",
   "version": "3.7.3"
  }
 },
 "nbformat": 4,
 "nbformat_minor": 4
}
