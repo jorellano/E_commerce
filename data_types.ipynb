{
  "cells": [
    {
      "cell_type": "code",
      "source": [
        "import pandas as pd\n",
        "import numpy as np\n",
        "\n",
        "\n",
        "\n",
        "df = {'Customer Number': pd.Series(['10002', '552278', '23477', '24900', '651029'], index=[0, 1, 2, 3, 4,]),\n",
        "      'Customer Name'  : pd.Series(['Quest Industries', 'Smith Plumbing', 'ACME Industrial', 'Brekke LTD', 'Harbor Co'], index =[0, 1, 2, 3, 4]),\n",
        "      '2016': pd.Series(['$125,000.00', '$920,000.00', '$50,000.00', '$350,000.00', '$15,000.00'], index=[0, 1, 2, 3, 4]),\n",
        "      '2017': pd.Series(['$162,500.00', '$101,200.00', '$62,500.00', '$490,000.00', '$12,750.00'], index=[0, 1, 2, 3, 4]),\n",
        "      'Percent Growth': pd.Series(['30.00%', '10.00%', '25.00%', '4.00%', '-15.00%'],index=[0, 1, 2, 3, 4]),\n",
        "      'Jan Units': pd.Series(['500', '700', '125', '75', 'closed'], index=[0, 1, 2, 3, 4]),\n",
        "      'Month': pd.Series(['1', '6', '3', '10', '2'], index=[0, 1, 2, 3, 4]),\n",
        "      'Day': pd.Series(['10','15','29','27','2'], index=[0, 1, 2, 3, 4]),\n",
        "      'Year': pd.Series(['2015', '2014', '2016', '2015', '2014'], index=[0, 1, 2, 3, 4]),\n",
        "      'Active' : pd.Series(['Y', 'Y', 'Y', 'Y', 'N'], index=[0, 1, 2, 3, 4])}\n",
        "\n",
        "df1 = pd.DataFrame(df)\n",
        "\n",
        "#Customer Number,Customer Name,2016,2017,Percent Growth,Jan Units,Month,Day,Year,Active\n",
        "#\"10002.0\",Quest Industries,\"$125,000.00\",$162500.00,30.00%,500,1,10,2015,\"Y\"\n",
        "#552278,Smith Plumbing,\"$920,000.00\",\"$101,2000.00\",10.00%,700,6,15,2014,\"Y\"\n",
        "#23477,ACME Industrial,\"$50,000.00\",$62500.00,25.00%,125,3,29,2016,\"Y\"\n",
        "#24900,Brekke LTD,\"$350,000.00\",$490000.00,4.00%,75,10,27,2015,\"Y\"\n",
        "#651029,Harbor Co,\"$15,000.00\",$12750.00,-15.00%,Closed,2,2,2014,\"N\"\n"
      ],
      "outputs": [],
      "execution_count": 111,
      "metadata": {}
    },
    {
      "cell_type": "code",
      "source": [
        "df1.head()"
      ],
      "outputs": [
        {
          "output_type": "execute_result",
          "execution_count": 112,
          "data": {
            "text/html": [
              "<div>\n",
              "<style scoped>\n",
              "    .dataframe tbody tr th:only-of-type {\n",
              "        vertical-align: middle;\n",
              "    }\n",
              "\n",
              "    .dataframe tbody tr th {\n",
              "        vertical-align: top;\n",
              "    }\n",
              "\n",
              "    .dataframe thead th {\n",
              "        text-align: right;\n",
              "    }\n",
              "</style>\n",
              "<table border=\"1\" class=\"dataframe\">\n",
              "  <thead>\n",
              "    <tr style=\"text-align: right;\">\n",
              "      <th></th>\n",
              "      <th>Customer Number</th>\n",
              "      <th>Customer Name</th>\n",
              "      <th>2016</th>\n",
              "      <th>2017</th>\n",
              "      <th>Percent Growth</th>\n",
              "      <th>Jan Units</th>\n",
              "      <th>Month</th>\n",
              "      <th>Day</th>\n",
              "      <th>Year</th>\n",
              "      <th>Active</th>\n",
              "    </tr>\n",
              "  </thead>\n",
              "  <tbody>\n",
              "    <tr>\n",
              "      <th>0</th>\n",
              "      <td>10002</td>\n",
              "      <td>Quest Industries</td>\n",
              "      <td>$125,000.00</td>\n",
              "      <td>$162,500.00</td>\n",
              "      <td>30.00%</td>\n",
              "      <td>500</td>\n",
              "      <td>1</td>\n",
              "      <td>10</td>\n",
              "      <td>2015</td>\n",
              "      <td>Y</td>\n",
              "    </tr>\n",
              "    <tr>\n",
              "      <th>1</th>\n",
              "      <td>552278</td>\n",
              "      <td>Smith Plumbing</td>\n",
              "      <td>$920,000.00</td>\n",
              "      <td>$101,200.00</td>\n",
              "      <td>10.00%</td>\n",
              "      <td>700</td>\n",
              "      <td>6</td>\n",
              "      <td>15</td>\n",
              "      <td>2014</td>\n",
              "      <td>Y</td>\n",
              "    </tr>\n",
              "    <tr>\n",
              "      <th>2</th>\n",
              "      <td>23477</td>\n",
              "      <td>ACME Industrial</td>\n",
              "      <td>$50,000.00</td>\n",
              "      <td>$62,500.00</td>\n",
              "      <td>25.00%</td>\n",
              "      <td>125</td>\n",
              "      <td>3</td>\n",
              "      <td>29</td>\n",
              "      <td>2016</td>\n",
              "      <td>Y</td>\n",
              "    </tr>\n",
              "    <tr>\n",
              "      <th>3</th>\n",
              "      <td>24900</td>\n",
              "      <td>Brekke LTD</td>\n",
              "      <td>$350,000.00</td>\n",
              "      <td>$490,000.00</td>\n",
              "      <td>4.00%</td>\n",
              "      <td>75</td>\n",
              "      <td>10</td>\n",
              "      <td>27</td>\n",
              "      <td>2015</td>\n",
              "      <td>Y</td>\n",
              "    </tr>\n",
              "    <tr>\n",
              "      <th>4</th>\n",
              "      <td>651029</td>\n",
              "      <td>Harbor Co</td>\n",
              "      <td>$15,000.00</td>\n",
              "      <td>$12,750.00</td>\n",
              "      <td>-15.00%</td>\n",
              "      <td>closed</td>\n",
              "      <td>2</td>\n",
              "      <td>2</td>\n",
              "      <td>2014</td>\n",
              "      <td>N</td>\n",
              "    </tr>\n",
              "  </tbody>\n",
              "</table>\n",
              "</div>"
            ],
            "text/plain": [
              "  Customer Number     Customer Name         2016         2017 Percent Growth  \\\n",
              "0           10002  Quest Industries  $125,000.00  $162,500.00         30.00%   \n",
              "1          552278    Smith Plumbing  $920,000.00  $101,200.00         10.00%   \n",
              "2           23477   ACME Industrial   $50,000.00   $62,500.00         25.00%   \n",
              "3           24900        Brekke LTD  $350,000.00  $490,000.00          4.00%   \n",
              "4          651029         Harbor Co   $15,000.00   $12,750.00        -15.00%   \n",
              "\n",
              "  Jan Units Month Day  Year Active  \n",
              "0       500     1  10  2015      Y  \n",
              "1       700     6  15  2014      Y  \n",
              "2       125     3  29  2016      Y  \n",
              "3        75    10  27  2015      Y  \n",
              "4    closed     2   2  2014      N  "
            ]
          },
          "metadata": {}
        }
      ],
      "execution_count": 112,
      "metadata": {}
    },
    {
      "cell_type": "code",
      "source": [
        "df1['2016'] + df['2017']"
      ],
      "outputs": [
        {
          "output_type": "execute_result",
          "execution_count": 113,
          "data": {
            "text/plain": [
              "0    $125,000.00$162,500.00\n",
              "1    $920,000.00$101,200.00\n",
              "2      $50,000.00$62,500.00\n",
              "3    $350,000.00$490,000.00\n",
              "4      $15,000.00$12,750.00\n",
              "dtype: object"
            ]
          },
          "metadata": {}
        }
      ],
      "execution_count": 113,
      "metadata": {}
    },
    {
      "cell_type": "code",
      "source": [
        "df1 = df1.convert_objects(convert_numeric=True)"
      ],
      "outputs": [
        {
          "output_type": "stream",
          "name": "stderr",
          "text": [
            "/anaconda3/lib/python3.7/site-packages/ipykernel_launcher.py:1: FutureWarning: convert_objects is deprecated.  To re-infer data dtypes for object columns, use DataFrame.infer_objects()\n",
            "For all other conversions use the data-type specific converters pd.to_datetime, pd.to_timedelta and pd.to_numeric.\n",
            "  \"\"\"Entry point for launching an IPython kernel.\n"
          ]
        }
      ],
      "execution_count": 124,
      "metadata": {}
    },
    {
      "cell_type": "markdown",
      "source": [
        "## what's wrong\n",
        "\n",
        "- The Customer Number is a float64 but it should be an int64\n",
        "- The 2016 and 2017 columns are stored as objects, not numerical values such as a float64 or int64\n",
        "- Percent Growth and Jan Units are also stored as objects not numerical values\n",
        "- We have Month , Day and Year columns that should be converted to datetime64\n",
        "- The **Active** column should be a boolean"
      ],
      "metadata": {}
    },
    {
      "cell_type": "code",
      "source": [
        "df1['Customer Number'].astype('int') #convert into int type\n",
        "df1['Customer Number'] = df1['Customer Number'].astype('int')\n",
        "\n",
        "df1.dtypes"
      ],
      "outputs": [
        {
          "output_type": "execute_result",
          "execution_count": 115,
          "data": {
            "text/plain": [
              "Customer Number     int64\n",
              "Customer Name      object\n",
              "2016               object\n",
              "2017               object\n",
              "Percent Growth     object\n",
              "Jan Units          object\n",
              "Month              object\n",
              "Day                object\n",
              "Year               object\n",
              "Active             object\n",
              "dtype: object"
            ]
          },
          "metadata": {}
        }
      ],
      "execution_count": 115,
      "metadata": {}
    },
    {
      "cell_type": "code",
      "source": [
        "def convert_currency(val):\n",
        "    \"\"\"\n",
        "    Convert the string number value to a float\n",
        "     - Remove $\n",
        "     - Remove commas\n",
        "     - Convert to float type\n",
        "    \"\"\"\n",
        "    new_val = val.replace(',','').replace('$', '')\n",
        "    return float(new_val)"
      ],
      "outputs": [],
      "execution_count": 116,
      "metadata": {}
    },
    {
      "cell_type": "code",
      "source": [
        "df1['2016'].apply(convert_currency)"
      ],
      "outputs": [
        {
          "output_type": "execute_result",
          "execution_count": 117,
          "data": {
            "text/plain": [
              "0    125000.0\n",
              "1    920000.0\n",
              "2     50000.0\n",
              "3    350000.0\n",
              "4     15000.0\n",
              "Name: 2016, dtype: float64"
            ]
          },
          "metadata": {}
        }
      ],
      "execution_count": 117,
      "metadata": {}
    },
    {
      "cell_type": "code",
      "source": [
        "df['2016'].apply(lambda x: x.replace('$', '').replace(',', '')).astype('float')"
      ],
      "outputs": [
        {
          "output_type": "execute_result",
          "execution_count": 118,
          "data": {
            "text/plain": [
              "0    125000.0\n",
              "1    920000.0\n",
              "2     50000.0\n",
              "3    350000.0\n",
              "4     15000.0\n",
              "dtype: float64"
            ]
          },
          "metadata": {}
        }
      ],
      "execution_count": 118,
      "metadata": {}
    },
    {
      "cell_type": "code",
      "source": [
        "df1['2016'] = df['2016'].apply(convert_currency)\n",
        "df1['2017'] = df['2017'].apply(convert_currency)"
      ],
      "outputs": [],
      "execution_count": 119,
      "metadata": {}
    },
    {
      "cell_type": "code",
      "source": [
        "df1.dtypes"
      ],
      "outputs": [
        {
          "output_type": "execute_result",
          "execution_count": 120,
          "data": {
            "text/plain": [
              "Customer Number      int64\n",
              "Customer Name       object\n",
              "2016               float64\n",
              "2017               float64\n",
              "Percent Growth      object\n",
              "Jan Units           object\n",
              "Month               object\n",
              "Day                 object\n",
              "Year                object\n",
              "Active              object\n",
              "dtype: object"
            ]
          },
          "metadata": {}
        }
      ],
      "execution_count": 120,
      "metadata": {}
    },
    {
      "cell_type": "code",
      "source": [
        "df1['Percent Growth'].apply(lambda x: x.replace('%', '')).astype('float') / 100\n"
      ],
      "outputs": [
        {
          "output_type": "execute_result",
          "execution_count": 121,
          "data": {
            "text/plain": [
              "0    0.30\n",
              "1    0.10\n",
              "2    0.25\n",
              "3    0.04\n",
              "4   -0.15\n",
              "Name: Percent Growth, dtype: float64"
            ]
          },
          "metadata": {}
        }
      ],
      "execution_count": 121,
      "metadata": {}
    },
    {
      "cell_type": "code",
      "source": [
        "df1[\"Active\"] = np.where(df1[\"Active\"] == \"Y\", True, False)\n"
      ],
      "outputs": [],
      "execution_count": 122,
      "metadata": {}
    },
    {
      "cell_type": "code",
      "source": [
        "df1.dtypes"
      ],
      "outputs": [
        {
          "output_type": "execute_result",
          "execution_count": 125,
          "data": {
            "text/plain": [
              "Customer Number      int64\n",
              "Customer Name       object\n",
              "2016               float64\n",
              "2017               float64\n",
              "Percent Growth      object\n",
              "Jan Units          float64\n",
              "Month                int64\n",
              "Day                  int64\n",
              "Year                 int64\n",
              "Active                bool\n",
              "dtype: object"
            ]
          },
          "metadata": {}
        }
      ],
      "execution_count": 125,
      "metadata": {}
    },
    {
      "cell_type": "code",
      "source": [
        "df1['Percent Growth'].apply(lambda x: x.replace('%', '')).astype('float') / 100\n"
      ],
      "outputs": [
        {
          "output_type": "execute_result",
          "execution_count": 129,
          "data": {
            "text/plain": [
              "0    0.30\n",
              "1    0.10\n",
              "2    0.25\n",
              "3    0.04\n",
              "4   -0.15\n",
              "Name: Percent Growth, dtype: float64"
            ]
          },
          "metadata": {}
        }
      ],
      "execution_count": 129,
      "metadata": {}
    },
    {
      "cell_type": "code",
      "source": [
        "df1.dtypes"
      ],
      "outputs": [
        {
          "output_type": "execute_result",
          "execution_count": 131,
          "data": {
            "text/plain": [
              "Customer Number      int64\n",
              "Customer Name       object\n",
              "2016               float64\n",
              "2017               float64\n",
              "Percent Growth      object\n",
              "Jan Units          float64\n",
              "Month                int64\n",
              "Day                  int64\n",
              "Year                 int64\n",
              "Active                bool\n",
              "dtype: object"
            ]
          },
          "metadata": {}
        }
      ],
      "execution_count": 131,
      "metadata": {}
    },
    {
      "cell_type": "code",
      "source": [
        "df1[\"Active\"] = np.where(df1[\"Active\"] == \"Y\", True, False)"
      ],
      "outputs": [
        {
          "output_type": "stream",
          "name": "stderr",
          "text": [
            "/anaconda3/lib/python3.7/site-packages/pandas/core/ops.py:1649: FutureWarning: elementwise comparison failed; returning scalar instead, but in the future will perform elementwise comparison\n",
            "  result = method(y)\n"
          ]
        }
      ],
      "execution_count": 132,
      "metadata": {}
    },
    {
      "cell_type": "code",
      "source": [
        "df1[\"Percent Growth\"] = pd.to_numeric(df1[\"2nd\"])"
      ],
      "outputs": [
        {
          "output_type": "execute_result",
          "execution_count": 134,
          "data": {
            "text/plain": [
              "Customer Number      int64\n",
              "Customer Name       object\n",
              "2016               float64\n",
              "2017               float64\n",
              "Percent Growth      object\n",
              "Jan Units          float64\n",
              "Month                int64\n",
              "Day                  int64\n",
              "Year                 int64\n",
              "Active                bool\n",
              "dtype: object"
            ]
          },
          "metadata": {}
        }
      ],
      "execution_count": 134,
      "metadata": {}
    },
    {
      "cell_type": "code",
      "source": [],
      "outputs": [],
      "execution_count": null,
      "metadata": {}
    }
  ],
  "metadata": {
    "kernelspec": {
      "name": "python3",
      "language": "python",
      "display_name": "Python 3"
    },
    "language_info": {
      "name": "python",
      "version": "3.7.3",
      "mimetype": "text/x-python",
      "codemirror_mode": {
        "name": "ipython",
        "version": 3
      },
      "pygments_lexer": "ipython3",
      "nbconvert_exporter": "python",
      "file_extension": ".py"
    },
    "kernel_info": {
      "name": "python3"
    },
    "nteract": {
      "version": "0.15.0"
    }
  },
  "nbformat": 4,
  "nbformat_minor": 2
}