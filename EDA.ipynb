{
  "cells": [
    {
      "cell_type": "markdown",
      "source": [
        "# Understand Brazilian E-commerce co.\n",
        "\n"
      ],
      "metadata": {}
    },
    {
      "cell_type": "code",
      "source": [
        "# Import all of the libraries \n",
        "import pandas as pd\n",
        "import numpy as np\n",
        "import matplotlib.pyplot as plt\n",
        "import seaborn as sns\n",
        "from plotnine import *\n",
        "import matplotlib as mpl\n",
        "mpl.rcParams['patch.force_edgecolor'] = True\n",
        "%matplotlib inline\n",
        "import datetime as dt"
      ],
      "outputs": [],
      "execution_count": 131,
      "metadata": {
        "collapsed": false,
        "outputHidden": false,
        "inputHidden": false
      }
    },
    {
      "cell_type": "code",
      "source": [
        "ls"
      ],
      "outputs": [
        {
          "output_type": "stream",
          "name": "stdout",
          "text": [
            "EDA.ipynb                              \u001b[31molist_order_payments_dataset.csv\u001b[m\u001b[m*\r\n",
            "README.md                              \u001b[31molist_order_reviews_dataset.csv\u001b[m\u001b[m*\r\n",
            "Untitled.ipynb                         \u001b[31molist_orders_dataset.csv\u001b[m\u001b[m*\r\n",
            "\u001b[34mbrazilian-ecommerce\u001b[m\u001b[m/                   \u001b[31molist_products_dataset.csv\u001b[m\u001b[m*\r\n",
            "\u001b[31molist_customers_dataset.csv\u001b[m\u001b[m*           \u001b[31molist_sellers_dataset.csv\u001b[m\u001b[m*\r\n",
            "\u001b[31molist_geolocation_dataset.csv\u001b[m\u001b[m*         \u001b[31mproduct_category_name_translation.csv\u001b[m\u001b[m*\r\n",
            "\u001b[31molist_order_items_dataset.csv\u001b[m\u001b[m*\r\n"
          ]
        }
      ],
      "execution_count": 132,
      "metadata": {
        "collapsed": false,
        "outputHidden": false,
        "inputHidden": false
      }
    },
    {
      "cell_type": "code",
      "source": [
        "customer = pd.read_csv(\"olist_customers_dataset.csv\")              \n",
        "location = pd.read_csv(\"olist_geolocation_dataset.csv\")\n",
        "order_items = pd.read_csv(\"olist_order_items_dataset.csv\")\n",
        "payment = pd.read_csv(\"olist_order_payments_dataset.csv\")\n",
        "review = pd.read_csv(\"olist_order_reviews_dataset.csv\")\n",
        "orders = pd.read_csv(\"olist_orders_dataset.csv\")\n",
        "product = pd.read_csv(\"olist_products_dataset.csv\")\n",
        "seller = pd.read_csv(\"olist_sellers_dataset.csv\")\n",
        "product_name = pd.read_csv(\"product_category_name_translation.csv\")\n",
        "\n",
        "                    \n",
        "\n",
        "\n"
      ],
      "outputs": [
        {
          "output_type": "execute_result",
          "execution_count": 207,
          "data": {
            "text/plain": [
              "<matplotlib.axes._subplots.AxesSubplot at 0x154f72898>"
            ]
          },
          "metadata": {}
        },
        {
          "output_type": "display_data",
          "data": {
            "text/plain": [
              "<Figure size 432x288 with 1 Axes>"
            ],
            "image/png": "[encoded data removed]"
          },
          "metadata": {
            "needs_background": "light"
          }
        }
      ],
      "execution_count": 207,
      "metadata": {
        "collapsed": false,
        "outputHidden": false,
        "inputHidden": false
      }
    },
    {
      "cell_type": "code",
      "source": [],
      "outputs": [],
      "execution_count": 200,
      "metadata": {
        "collapsed": false,
        "outputHidden": false,
        "inputHidden": false
      }
    },
    {
      "cell_type": "code",
      "source": [
        "estat_cat = df['order_status'].unique().tolist()\n",
        "stat_cat"
      ],
      "outputs": [
        {
          "output_type": "execute_result",
          "execution_count": 101,
          "data": {
            "text/plain": [
              "['delivered',\n",
              " 'invoiced',\n",
              " 'shipped',\n",
              " 'processing',\n",
              " 'unavailable',\n",
              " 'canceled',\n",
              " 'created',\n",
              " 'approved']"
            ]
          },
          "metadata": {}
        }
      ],
      "execution_count": 101,
      "metadata": {
        "collapsed": false,
        "outputHidden": false,
        "inputHidden": false
      }
    },
    {
      "cell_type": "code",
      "source": [
        "status_cat = pd.Categorical(df['order_status'], categories=stat_cat, ordered=False)\n",
        "status_cat\n",
        "                           "
      ],
      "outputs": [
        {
          "output_type": "execute_result",
          "execution_count": 102,
          "data": {
            "text/plain": [
              "[delivered, delivered, delivered, delivered, delivered, ..., delivered, delivered, delivered, delivered, delivered]\n",
              "Length: 99441\n",
              "Categories (8, object): [delivered, invoiced, shipped, processing, unavailable, canceled, created, approved]"
            ]
          },
          "metadata": {}
        }
      ],
      "execution_count": 102,
      "metadata": {
        "collapsed": false,
        "outputHidden": false,
        "inputHidden": false
      }
    },
    {
      "cell_type": "code",
      "source": [
        "#reassign status_cat to original \"order_Status col\n",
        "df['order_status'] = status_cat"
      ],
      "outputs": [],
      "execution_count": 103,
      "metadata": {
        "collapsed": false,
        "outputHidden": false,
        "inputHidden": false
      }
    },
    {
      "cell_type": "code",
      "source": [
        "#do the same to product_name_category\n",
        "\n",
        "cat_name = product['product_category_name'].unique().tolist()\n",
        "product['product_category_name'] = pd.Categorical(product['product_category_name'], categories=cat_name, ordered=False)\n",
        "product['product_category_name'].describe()"
      ],
      "outputs": [
        {
          "output_type": "execute_result",
          "execution_count": 104,
          "data": {
            "text/plain": [
              "count                     71\n",
              "unique                    71\n",
              "top       seguros_e_servicos\n",
              "freq                       1\n",
              "Name: product_category_name, dtype: object"
            ]
          },
          "metadata": {}
        }
      ],
      "execution_count": 104,
      "metadata": {
        "collapsed": false,
        "outputHidden": false,
        "inputHidden": false
      }
    },
    {
      "cell_type": "code",
      "source": [
        "product.dtypes"
      ],
      "outputs": [
        {
          "output_type": "execute_result",
          "execution_count": 254,
          "data": {
            "text/plain": [
              "product_id                     object\n",
              "product_category_name          object\n",
              "product_name_lenght           float64\n",
              "product_description_lenght    float64\n",
              "product_photos_qty            float64\n",
              "product_weight_g              float64\n",
              "product_length_cm             float64\n",
              "product_height_cm             float64\n",
              "product_width_cm              float64\n",
              "dtype: object"
            ]
          },
          "metadata": {}
        }
      ],
      "execution_count": 254,
      "metadata": {
        "collapsed": false,
        "outputHidden": false,
        "inputHidden": false
      }
    },
    {
      "cell_type": "code",
      "source": [
        "#capitalize first character of each word\n",
        "customer['customer_city'] = customer['customer_city'].str.title()\n",
        "customer['customer_state'] = customer['customer_state'].str.upper()\n",
        "customer['customer_state'].value_counts().head(7)"
      ],
      "outputs": [
        {
          "output_type": "execute_result",
          "execution_count": 106,
          "data": {
            "text/plain": [
              "SP    41746\n",
              "RJ    12852\n",
              "MG    11635\n",
              "RS     5466\n",
              "PR     5045\n",
              "SC     3637\n",
              "BA     3380\n",
              "Name: customer_state, dtype: int64"
            ]
          },
          "metadata": {}
        }
      ],
      "execution_count": 106,
      "metadata": {
        "collapsed": false,
        "outputHidden": false,
        "inputHidden": false
      }
    },
    {
      "cell_type": "code",
      "source": [
        "review['review_comment_title'] = review['review_comment_title'].str.strip().str.lower()"
      ],
      "outputs": [],
      "execution_count": 107,
      "metadata": {
        "collapsed": false,
        "outputHidden": false,
        "inputHidden": false
      }
    },
    {
      "cell_type": "code",
      "source": [
        "product['product_category_name_english'][1]"
      ],
      "outputs": [
        {
          "output_type": "execute_result",
          "execution_count": 108,
          "data": {
            "text/plain": [
              "'computers_accessories'"
            ]
          },
          "metadata": {}
        }
      ],
      "execution_count": 108,
      "metadata": {
        "collapsed": false,
        "outputHidden": false,
        "inputHidden": false
      }
    },
    {
      "cell_type": "code",
      "source": [
        "#replace underline w/ spaces\n",
        "product['product_category_name_english'] = product['product_category_name_english'].str.replace('_',' ').str.lower()\n",
        "product['product_category_name_english'].value_counts().head(13)"
      ],
      "outputs": [
        {
          "output_type": "execute_result",
          "execution_count": 109,
          "data": {
            "text/plain": [
              "watches gifts                        1\n",
              "health beauty                        1\n",
              "cool stuff                           1\n",
              "fashion male clothing                1\n",
              "small appliances                     1\n",
              "home comfort 2                       1\n",
              "bed bath table                       1\n",
              "stationery                           1\n",
              "auto                                 1\n",
              "books technical                      1\n",
              "party supplies                       1\n",
              "agro industry and commerce           1\n",
              "furniture mattress and upholstery    1\n",
              "Name: product_category_name_english, dtype: int64"
            ]
          },
          "metadata": {}
        }
      ],
      "execution_count": 109,
      "metadata": {
        "collapsed": false,
        "outputHidden": false,
        "inputHidden": false
      }
    },
    {
      "cell_type": "code",
      "source": [
        "to_eng_cat_name = product['product_category_name_english'].unique().tolist()\n",
        "to_eng_cat_name[0]"
      ],
      "outputs": [
        {
          "output_type": "execute_result",
          "execution_count": 110,
          "data": {
            "text/plain": [
              "'health beauty'"
            ]
          },
          "metadata": {}
        }
      ],
      "execution_count": 110,
      "metadata": {
        "collapsed": false,
        "outputHidden": false,
        "inputHidden": false
      }
    },
    {
      "cell_type": "code",
      "source": [],
      "outputs": [],
      "execution_count": 182,
      "metadata": {
        "collapsed": false,
        "outputHidden": false,
        "inputHidden": false
      }
    },
    {
      "cell_type": "code",
      "source": [],
      "outputs": [],
      "execution_count": 116,
      "metadata": {
        "collapsed": false,
        "outputHidden": false,
        "inputHidden": false
      }
    },
    {
      "cell_type": "code",
      "source": [
        "#This took me too long to understand.\n",
        "orders[\"order_estimated_delivery_date\"] = pd.to_datetime(orders[\"order_estimated_delivery_date\"])#make the columns into datetime.\n",
        "orders[\"order_delivered_customer_date\"] = pd.to_datetime(orders[\"order_delivered_customer_date\"])\n",
        "\n",
        "orders[\"duration_in_days\"] = (orders[\"order_estimated_delivery_date\"] - orders[\"order_delivered_customer_date\"])/np.timedelta64(1, 'D')\n",
        "#subtract estimated delivery by actual date received\n",
        "\n"
      ],
      "outputs": [],
      "execution_count": 127,
      "metadata": {
        "collapsed": false,
        "outputHidden": false,
        "inputHidden": false
      }
    },
    {
      "cell_type": "code",
      "source": [
        "orders['duration_in_days'].plot(kind='hist', bins=50)"
      ],
      "outputs": [
        {
          "output_type": "execute_result",
          "execution_count": 125,
          "data": {
            "text/plain": [
              "<matplotlib.axes._subplots.AxesSubplot at 0x14fb8d358>"
            ]
          },
          "metadata": {}
        },
        {
          "output_type": "display_data",
          "data": {
            "text/plain": [
              "<Figure size 432x288 with 1 Axes>"
            ],
            "image/png": "[encoded data removed]"
          },
          "metadata": {
            "needs_background": "light"
          }
        }
      ],
      "execution_count": 125,
      "metadata": {
        "collapsed": false,
        "outputHidden": false,
        "inputHidden": false
      }
    },
    {
      "cell_type": "code",
      "source": [
        "orders['on_time'] = ((orders['order_estimated_delivery_date'] - orders['order_delivered_customer_date'])/(np.timedelta64(1, 'D')))"
      ],
      "outputs": [],
      "execution_count": 126,
      "metadata": {
        "collapsed": false,
        "outputHidden": false,
        "inputHidden": false
      }
    },
    {
      "cell_type": "code",
      "source": [
        "order_items['total_value'] = order_items['price'].add(order_items['freight_value']) #create new column with price & freight included\n",
        "\n",
        "\n"
      ],
      "outputs": [],
      "execution_count": 191,
      "metadata": {
        "collapsed": false,
        "outputHidden": false,
        "inputHidden": false
      }
    },
    {
      "cell_type": "code",
      "source": [
        "order_items.head()"
      ],
      "outputs": [
        {
          "output_type": "execute_result",
          "execution_count": 192,
          "data": {
            "text/plain": [
              "                           order_id  order_item_id  \\\n",
              "0  00010242fe8c5a6d1ba2dd792cb16214              1   \n",
              "1  00018f77f2f0320c557190d7a144bdd3              1   \n",
              "2  000229ec398224ef6ca0657da4fc703e              1   \n",
              "3  00024acbcdf0a6daa1e931b038114c75              1   \n",
              "4  00042b26cf59d7ce69dfabb4e55b4fd9              1   \n",
              "\n",
              "                         product_id                         seller_id  \\\n",
              "0  4244733e06e7ecb4970a6e2683c13e61  48436dade18ac8b2bce089ec2a041202   \n",
              "1  e5f2d52b802189ee658865ca93d83a8f  dd7ddc04e1b6c2c614352b383efe2d36   \n",
              "2  c777355d18b72b67abbeef9df44fd0fd  5b51032eddd242adc84c38acab88f23d   \n",
              "3  7634da152a4610f1595efa32f14722fc  9d7a1d34a5052409006425275ba1c2b4   \n",
              "4  ac6c3623068f30de03045865e4e10089  df560393f3a51e74553ab94004ba5c87   \n",
              "\n",
              "   shipping_limit_date   price  freight_value  total_value  \n",
              "0  2017-09-19 09:45:35   58.90          13.29        72.19  \n",
              "1  2017-05-03 11:05:13  239.90          19.93       259.83  \n",
              "2  2018-01-18 14:48:30  199.00          17.87       216.87  \n",
              "3  2018-08-15 10:10:18   12.99          12.79        25.78  \n",
              "4  2017-02-13 13:57:51  199.90          18.14       218.04  "
            ],
            "text/html": [
              "<div>\n",
              "<style scoped>\n",
              "    .dataframe tbody tr th:only-of-type {\n",
              "        vertical-align: middle;\n",
              "    }\n",
              "\n",
              "    .dataframe tbody tr th {\n",
              "        vertical-align: top;\n",
              "    }\n",
              "\n",
              "    .dataframe thead th {\n",
              "        text-align: right;\n",
              "    }\n",
              "</style>\n",
              "<table border=\"1\" class=\"dataframe\">\n",
              "  <thead>\n",
              "    <tr style=\"text-align: right;\">\n",
              "      <th></th>\n",
              "      <th>order_id</th>\n",
              "      <th>order_item_id</th>\n",
              "      <th>product_id</th>\n",
              "      <th>seller_id</th>\n",
              "      <th>shipping_limit_date</th>\n",
              "      <th>price</th>\n",
              "      <th>freight_value</th>\n",
              "      <th>total_value</th>\n",
              "    </tr>\n",
              "  </thead>\n",
              "  <tbody>\n",
              "    <tr>\n",
              "      <th>0</th>\n",
              "      <td>00010242fe8c5a6d1ba2dd792cb16214</td>\n",
              "      <td>1</td>\n",
              "      <td>4244733e06e7ecb4970a6e2683c13e61</td>\n",
              "      <td>48436dade18ac8b2bce089ec2a041202</td>\n",
              "      <td>2017-09-19 09:45:35</td>\n",
              "      <td>58.90</td>\n",
              "      <td>13.29</td>\n",
              "      <td>72.19</td>\n",
              "    </tr>\n",
              "    <tr>\n",
              "      <th>1</th>\n",
              "      <td>00018f77f2f0320c557190d7a144bdd3</td>\n",
              "      <td>1</td>\n",
              "      <td>e5f2d52b802189ee658865ca93d83a8f</td>\n",
              "      <td>dd7ddc04e1b6c2c614352b383efe2d36</td>\n",
              "      <td>2017-05-03 11:05:13</td>\n",
              "      <td>239.90</td>\n",
              "      <td>19.93</td>\n",
              "      <td>259.83</td>\n",
              "    </tr>\n",
              "    <tr>\n",
              "      <th>2</th>\n",
              "      <td>000229ec398224ef6ca0657da4fc703e</td>\n",
              "      <td>1</td>\n",
              "      <td>c777355d18b72b67abbeef9df44fd0fd</td>\n",
              "      <td>5b51032eddd242adc84c38acab88f23d</td>\n",
              "      <td>2018-01-18 14:48:30</td>\n",
              "      <td>199.00</td>\n",
              "      <td>17.87</td>\n",
              "      <td>216.87</td>\n",
              "    </tr>\n",
              "    <tr>\n",
              "      <th>3</th>\n",
              "      <td>00024acbcdf0a6daa1e931b038114c75</td>\n",
              "      <td>1</td>\n",
              "      <td>7634da152a4610f1595efa32f14722fc</td>\n",
              "      <td>9d7a1d34a5052409006425275ba1c2b4</td>\n",
              "      <td>2018-08-15 10:10:18</td>\n",
              "      <td>12.99</td>\n",
              "      <td>12.79</td>\n",
              "      <td>25.78</td>\n",
              "    </tr>\n",
              "    <tr>\n",
              "      <th>4</th>\n",
              "      <td>00042b26cf59d7ce69dfabb4e55b4fd9</td>\n",
              "      <td>1</td>\n",
              "      <td>ac6c3623068f30de03045865e4e10089</td>\n",
              "      <td>df560393f3a51e74553ab94004ba5c87</td>\n",
              "      <td>2017-02-13 13:57:51</td>\n",
              "      <td>199.90</td>\n",
              "      <td>18.14</td>\n",
              "      <td>218.04</td>\n",
              "    </tr>\n",
              "  </tbody>\n",
              "</table>\n",
              "</div>"
            ]
          },
          "metadata": {}
        }
      ],
      "execution_count": 192,
      "metadata": {
        "collapsed": false,
        "outputHidden": false,
        "inputHidden": false
      }
    },
    {
      "cell_type": "code",
      "source": [
        "order_items.describe(include='all')"
      ],
      "outputs": [
        {
          "output_type": "execute_result",
          "execution_count": 193,
          "data": {
            "text/plain": [
              "                                order_id  order_item_id  \\\n",
              "count                             112650  112650.000000   \n",
              "unique                             98666            NaN   \n",
              "top     8272b63d03f5f79c56e9e4120aec44ef            NaN   \n",
              "freq                                  21            NaN   \n",
              "mean                                 NaN       1.197834   \n",
              "std                                  NaN       0.705124   \n",
              "min                                  NaN       1.000000   \n",
              "25%                                  NaN       1.000000   \n",
              "50%                                  NaN       1.000000   \n",
              "75%                                  NaN       1.000000   \n",
              "max                                  NaN      21.000000   \n",
              "\n",
              "                              product_id                         seller_id  \\\n",
              "count                             112650                            112650   \n",
              "unique                             32951                              3095   \n",
              "top     aca2eb7d00ea1a7b8ebd4e68314663af  6560211a19b47992c3666cc44a7e94c0   \n",
              "freq                                 527                              2033   \n",
              "mean                                 NaN                               NaN   \n",
              "std                                  NaN                               NaN   \n",
              "min                                  NaN                               NaN   \n",
              "25%                                  NaN                               NaN   \n",
              "50%                                  NaN                               NaN   \n",
              "75%                                  NaN                               NaN   \n",
              "max                                  NaN                               NaN   \n",
              "\n",
              "        shipping_limit_date          price  freight_value    total_value  \n",
              "count                112650  112650.000000  112650.000000  112650.000000  \n",
              "unique                93318            NaN            NaN            NaN  \n",
              "top     2017-07-21 18:25:23            NaN            NaN            NaN  \n",
              "freq                     21            NaN            NaN            NaN  \n",
              "mean                    NaN     120.653739      19.990320     140.644059  \n",
              "std                     NaN     183.633928      15.806405     190.724394  \n",
              "min                     NaN       0.850000       0.000000       6.080000  \n",
              "25%                     NaN      39.900000      13.080000      55.220000  \n",
              "50%                     NaN      74.990000      16.260000      92.320000  \n",
              "75%                     NaN     134.900000      21.150000     157.937500  \n",
              "max                     NaN    6735.000000     409.680000    6929.310000  "
            ],
            "text/html": [
              "<div>\n",
              "<style scoped>\n",
              "    .dataframe tbody tr th:only-of-type {\n",
              "        vertical-align: middle;\n",
              "    }\n",
              "\n",
              "    .dataframe tbody tr th {\n",
              "        vertical-align: top;\n",
              "    }\n",
              "\n",
              "    .dataframe thead th {\n",
              "        text-align: right;\n",
              "    }\n",
              "</style>\n",
              "<table border=\"1\" class=\"dataframe\">\n",
              "  <thead>\n",
              "    <tr style=\"text-align: right;\">\n",
              "      <th></th>\n",
              "      <th>order_id</th>\n",
              "      <th>order_item_id</th>\n",
              "      <th>product_id</th>\n",
              "      <th>seller_id</th>\n",
              "      <th>shipping_limit_date</th>\n",
              "      <th>price</th>\n",
              "      <th>freight_value</th>\n",
              "      <th>total_value</th>\n",
              "    </tr>\n",
              "  </thead>\n",
              "  <tbody>\n",
              "    <tr>\n",
              "      <th>count</th>\n",
              "      <td>112650</td>\n",
              "      <td>112650.000000</td>\n",
              "      <td>112650</td>\n",
              "      <td>112650</td>\n",
              "      <td>112650</td>\n",
              "      <td>112650.000000</td>\n",
              "      <td>112650.000000</td>\n",
              "      <td>112650.000000</td>\n",
              "    </tr>\n",
              "    <tr>\n",
              "      <th>unique</th>\n",
              "      <td>98666</td>\n",
              "      <td>NaN</td>\n",
              "      <td>32951</td>\n",
              "      <td>3095</td>\n",
              "      <td>93318</td>\n",
              "      <td>NaN</td>\n",
              "      <td>NaN</td>\n",
              "      <td>NaN</td>\n",
              "    </tr>\n",
              "    <tr>\n",
              "      <th>top</th>\n",
              "      <td>8272b63d03f5f79c56e9e4120aec44ef</td>\n",
              "      <td>NaN</td>\n",
              "      <td>aca2eb7d00ea1a7b8ebd4e68314663af</td>\n",
              "      <td>6560211a19b47992c3666cc44a7e94c0</td>\n",
              "      <td>2017-07-21 18:25:23</td>\n",
              "      <td>NaN</td>\n",
              "      <td>NaN</td>\n",
              "      <td>NaN</td>\n",
              "    </tr>\n",
              "    <tr>\n",
              "      <th>freq</th>\n",
              "      <td>21</td>\n",
              "      <td>NaN</td>\n",
              "      <td>527</td>\n",
              "      <td>2033</td>\n",
              "      <td>21</td>\n",
              "      <td>NaN</td>\n",
              "      <td>NaN</td>\n",
              "      <td>NaN</td>\n",
              "    </tr>\n",
              "    <tr>\n",
              "      <th>mean</th>\n",
              "      <td>NaN</td>\n",
              "      <td>1.197834</td>\n",
              "      <td>NaN</td>\n",
              "      <td>NaN</td>\n",
              "      <td>NaN</td>\n",
              "      <td>120.653739</td>\n",
              "      <td>19.990320</td>\n",
              "      <td>140.644059</td>\n",
              "    </tr>\n",
              "    <tr>\n",
              "      <th>std</th>\n",
              "      <td>NaN</td>\n",
              "      <td>0.705124</td>\n",
              "      <td>NaN</td>\n",
              "      <td>NaN</td>\n",
              "      <td>NaN</td>\n",
              "      <td>183.633928</td>\n",
              "      <td>15.806405</td>\n",
              "      <td>190.724394</td>\n",
              "    </tr>\n",
              "    <tr>\n",
              "      <th>min</th>\n",
              "      <td>NaN</td>\n",
              "      <td>1.000000</td>\n",
              "      <td>NaN</td>\n",
              "      <td>NaN</td>\n",
              "      <td>NaN</td>\n",
              "      <td>0.850000</td>\n",
              "      <td>0.000000</td>\n",
              "      <td>6.080000</td>\n",
              "    </tr>\n",
              "    <tr>\n",
              "      <th>25%</th>\n",
              "      <td>NaN</td>\n",
              "      <td>1.000000</td>\n",
              "      <td>NaN</td>\n",
              "      <td>NaN</td>\n",
              "      <td>NaN</td>\n",
              "      <td>39.900000</td>\n",
              "      <td>13.080000</td>\n",
              "      <td>55.220000</td>\n",
              "    </tr>\n",
              "    <tr>\n",
              "      <th>50%</th>\n",
              "      <td>NaN</td>\n",
              "      <td>1.000000</td>\n",
              "      <td>NaN</td>\n",
              "      <td>NaN</td>\n",
              "      <td>NaN</td>\n",
              "      <td>74.990000</td>\n",
              "      <td>16.260000</td>\n",
              "      <td>92.320000</td>\n",
              "    </tr>\n",
              "    <tr>\n",
              "      <th>75%</th>\n",
              "      <td>NaN</td>\n",
              "      <td>1.000000</td>\n",
              "      <td>NaN</td>\n",
              "      <td>NaN</td>\n",
              "      <td>NaN</td>\n",
              "      <td>134.900000</td>\n",
              "      <td>21.150000</td>\n",
              "      <td>157.937500</td>\n",
              "    </tr>\n",
              "    <tr>\n",
              "      <th>max</th>\n",
              "      <td>NaN</td>\n",
              "      <td>21.000000</td>\n",
              "      <td>NaN</td>\n",
              "      <td>NaN</td>\n",
              "      <td>NaN</td>\n",
              "      <td>6735.000000</td>\n",
              "      <td>409.680000</td>\n",
              "      <td>6929.310000</td>\n",
              "    </tr>\n",
              "  </tbody>\n",
              "</table>\n",
              "</div>"
            ]
          },
          "metadata": {}
        }
      ],
      "execution_count": 193,
      "metadata": {
        "collapsed": false,
        "outputHidden": false,
        "inputHidden": false
      }
    },
    {
      "cell_type": "code",
      "source": [],
      "outputs": [
        {
          "output_type": "error",
          "ename": "AttributeError",
          "evalue": "'DataFrame' object has no attribute 'value_counts'",
          "traceback": [
            "\u001b[0;31m---------------------------------------------------------------------------\u001b[0m",
            "\u001b[0;31mAttributeError\u001b[0m                            Traceback (most recent call last)",
            "\u001b[0;32m<ipython-input-253-055be75ce52e>\u001b[0m in \u001b[0;36m<module>\u001b[0;34m\u001b[0m\n\u001b[0;32m----> 1\u001b[0;31m \u001b[0mproduct\u001b[0m\u001b[0;34m.\u001b[0m\u001b[0mvalue_counts\u001b[0m\u001b[0;34m(\u001b[0m\u001b[0;34m)\u001b[0m\u001b[0;34m\u001b[0m\u001b[0;34m\u001b[0m\u001b[0m\n\u001b[0m",
            "\u001b[0;32m/anaconda3/lib/python3.7/site-packages/pandas/core/generic.py\u001b[0m in \u001b[0;36m__getattr__\u001b[0;34m(self, name)\u001b[0m\n\u001b[1;32m   5065\u001b[0m             \u001b[0;32mif\u001b[0m \u001b[0mself\u001b[0m\u001b[0;34m.\u001b[0m\u001b[0m_info_axis\u001b[0m\u001b[0;34m.\u001b[0m\u001b[0m_can_hold_identifiers_and_holds_name\u001b[0m\u001b[0;34m(\u001b[0m\u001b[0mname\u001b[0m\u001b[0;34m)\u001b[0m\u001b[0;34m:\u001b[0m\u001b[0;34m\u001b[0m\u001b[0;34m\u001b[0m\u001b[0m\n\u001b[1;32m   5066\u001b[0m                 \u001b[0;32mreturn\u001b[0m \u001b[0mself\u001b[0m\u001b[0;34m[\u001b[0m\u001b[0mname\u001b[0m\u001b[0;34m]\u001b[0m\u001b[0;34m\u001b[0m\u001b[0;34m\u001b[0m\u001b[0m\n\u001b[0;32m-> 5067\u001b[0;31m             \u001b[0;32mreturn\u001b[0m \u001b[0mobject\u001b[0m\u001b[0;34m.\u001b[0m\u001b[0m__getattribute__\u001b[0m\u001b[0;34m(\u001b[0m\u001b[0mself\u001b[0m\u001b[0;34m,\u001b[0m \u001b[0mname\u001b[0m\u001b[0;34m)\u001b[0m\u001b[0;34m\u001b[0m\u001b[0;34m\u001b[0m\u001b[0m\n\u001b[0m\u001b[1;32m   5068\u001b[0m \u001b[0;34m\u001b[0m\u001b[0m\n\u001b[1;32m   5069\u001b[0m     \u001b[0;32mdef\u001b[0m \u001b[0m__setattr__\u001b[0m\u001b[0;34m(\u001b[0m\u001b[0mself\u001b[0m\u001b[0;34m,\u001b[0m \u001b[0mname\u001b[0m\u001b[0;34m,\u001b[0m \u001b[0mvalue\u001b[0m\u001b[0;34m)\u001b[0m\u001b[0;34m:\u001b[0m\u001b[0;34m\u001b[0m\u001b[0;34m\u001b[0m\u001b[0m\n",
            "\u001b[0;31mAttributeError\u001b[0m: 'DataFrame' object has no attribute 'value_counts'"
          ]
        }
      ],
      "execution_count": 253,
      "metadata": {
        "collapsed": false,
        "outputHidden": false,
        "inputHidden": false
      }
    },
    {
      "cell_type": "markdown",
      "source": [
        "# 2. Visualizations\n",
        "\n",
        "### Data is better understood when it is visualized\n",
        "\n",
        "\n"
      ],
      "metadata": {}
    },
    {
      "cell_type": "markdown",
      "source": [],
      "metadata": {}
    },
    {
      "cell_type": "code",
      "source": [
        "order_items['order_item_id'].value_counts().sort_index()"
      ],
      "outputs": [
        {
          "output_type": "execute_result",
          "execution_count": 194,
          "data": {
            "text/plain": [
              "1     98666\n",
              "2      9803\n",
              "3      2287\n",
              "4       965\n",
              "5       460\n",
              "6       256\n",
              "7        58\n",
              "8        36\n",
              "9        28\n",
              "10       25\n",
              "11       17\n",
              "12       13\n",
              "13        8\n",
              "14        7\n",
              "15        5\n",
              "16        3\n",
              "17        3\n",
              "18        3\n",
              "19        3\n",
              "20        3\n",
              "21        1\n",
              "Name: order_item_id, dtype: int64"
            ]
          },
          "metadata": {}
        }
      ],
      "execution_count": 194,
      "metadata": {
        "collapsed": false,
        "outputHidden": false,
        "inputHidden": false
      }
    },
    {
      "cell_type": "code",
      "source": [
        "order_items.groupby('order_item_id')['total_value'].mean().plot(kind='bar',figsize=(12,5))\n",
        "\n",
        "\n"
      ],
      "outputs": [
        {
          "output_type": "execute_result",
          "execution_count": 195,
          "data": {
            "text/plain": [
              "<matplotlib.axes._subplots.AxesSubplot at 0x182acb400>"
            ]
          },
          "metadata": {}
        },
        {
          "output_type": "display_data",
          "data": {
            "text/plain": [
              "<Figure size 864x360 with 1 Axes>"
            ],
            "image/png": "[encoded data removed]"
          },
          "metadata": {
            "needs_background": "light"
          }
        }
      ],
      "execution_count": 195,
      "metadata": {
        "collapsed": false,
        "outputHidden": false,
        "inputHidden": false
      }
    },
    {
      "cell_type": "code",
      "source": [
        "seller['seller_state'].hist(bins=10)\n",
        "#most of the orders come from Sao Paolo, nearly 60% of orders come from SP\n",
        "\n",
        "\n",
        "seller['seller_state'].describe()"
      ],
      "outputs": [
        {
          "output_type": "execute_result",
          "execution_count": 213,
          "data": {
            "text/plain": [
              "count     3095\n",
              "unique      23\n",
              "top         SP\n",
              "freq      1849\n",
              "Name: seller_state, dtype: object"
            ]
          },
          "metadata": {}
        },
        {
          "output_type": "display_data",
          "data": {
            "text/plain": [
              "<Figure size 432x288 with 1 Axes>"
            ],
            "image/png": "[encoded data removed]"
          },
          "metadata": {
            "needs_background": "light"
          }
        }
      ],
      "execution_count": 213,
      "metadata": {
        "collapsed": false,
        "outputHidden": false,
        "inputHidden": false
      }
    },
    {
      "cell_type": "code",
      "source": [
        "payment"
      ],
      "outputs": [
        {
          "output_type": "execute_result",
          "execution_count": 214,
          "data": {
            "text/plain": [
              "                           order_id  payment_sequential payment_type  \\\n",
              "0  b81ef226f3fe1789b1e8b2acac839d17                   1  credit_card   \n",
              "1  a9810da82917af2d9aefd1278f1dcfa0                   1  credit_card   \n",
              "2  25e8ea4e93396b6fa0d3dd708e76c1bd                   1  credit_card   \n",
              "3  ba78997921bbcdc1373bb41e913ab953                   1  credit_card   \n",
              "4  42fdf880ba16b47b59251dd489d4441a                   1  credit_card   \n",
              "\n",
              "   payment_installments  payment_value  \n",
              "0                     8          99.33  \n",
              "1                     1          24.39  \n",
              "2                     1          65.71  \n",
              "3                     8         107.78  \n",
              "4                     2         128.45  "
            ],
            "text/html": [
              "<div>\n",
              "<style scoped>\n",
              "    .dataframe tbody tr th:only-of-type {\n",
              "        vertical-align: middle;\n",
              "    }\n",
              "\n",
              "    .dataframe tbody tr th {\n",
              "        vertical-align: top;\n",
              "    }\n",
              "\n",
              "    .dataframe thead th {\n",
              "        text-align: right;\n",
              "    }\n",
              "</style>\n",
              "<table border=\"1\" class=\"dataframe\">\n",
              "  <thead>\n",
              "    <tr style=\"text-align: right;\">\n",
              "      <th></th>\n",
              "      <th>order_id</th>\n",
              "      <th>payment_sequential</th>\n",
              "      <th>payment_type</th>\n",
              "      <th>payment_installments</th>\n",
              "      <th>payment_value</th>\n",
              "    </tr>\n",
              "  </thead>\n",
              "  <tbody>\n",
              "    <tr>\n",
              "      <th>0</th>\n",
              "      <td>b81ef226f3fe1789b1e8b2acac839d17</td>\n",
              "      <td>1</td>\n",
              "      <td>credit_card</td>\n",
              "      <td>8</td>\n",
              "      <td>99.33</td>\n",
              "    </tr>\n",
              "    <tr>\n",
              "      <th>1</th>\n",
              "      <td>a9810da82917af2d9aefd1278f1dcfa0</td>\n",
              "      <td>1</td>\n",
              "      <td>credit_card</td>\n",
              "      <td>1</td>\n",
              "      <td>24.39</td>\n",
              "    </tr>\n",
              "    <tr>\n",
              "      <th>2</th>\n",
              "      <td>25e8ea4e93396b6fa0d3dd708e76c1bd</td>\n",
              "      <td>1</td>\n",
              "      <td>credit_card</td>\n",
              "      <td>1</td>\n",
              "      <td>65.71</td>\n",
              "    </tr>\n",
              "    <tr>\n",
              "      <th>3</th>\n",
              "      <td>ba78997921bbcdc1373bb41e913ab953</td>\n",
              "      <td>1</td>\n",
              "      <td>credit_card</td>\n",
              "      <td>8</td>\n",
              "      <td>107.78</td>\n",
              "    </tr>\n",
              "    <tr>\n",
              "      <th>4</th>\n",
              "      <td>42fdf880ba16b47b59251dd489d4441a</td>\n",
              "      <td>1</td>\n",
              "      <td>credit_card</td>\n",
              "      <td>2</td>\n",
              "      <td>128.45</td>\n",
              "    </tr>\n",
              "  </tbody>\n",
              "</table>\n",
              "</div>"
            ]
          },
          "metadata": {}
        }
      ],
      "execution_count": 214,
      "metadata": {
        "collapsed": false,
        "outputHidden": false,
        "inputHidden": false
      }
    },
    {
      "cell_type": "code",
      "source": [],
      "outputs": [],
      "execution_count": 265,
      "metadata": {
        "collapsed": false,
        "outputHidden": false,
        "inputHidden": false
      }
    },
    {
      "cell_type": "code",
      "source": [],
      "outputs": [],
      "execution_count": 266,
      "metadata": {
        "collapsed": false,
        "outputHidden": false,
        "inputHidden": false
      }
    },
    {
      "cell_type": "code",
      "source": [
        "payment['payment_type'].hist(bins=10)"
      ],
      "outputs": [
        {
          "output_type": "execute_result",
          "execution_count": 264,
          "data": {
            "text/plain": [
              "<matplotlib.axes._subplots.AxesSubplot at 0x14148a160>"
            ]
          },
          "metadata": {}
        },
        {
          "output_type": "display_data",
          "data": {
            "text/plain": [
              "<Figure size 432x288 with 1 Axes>"
            ],
            "image/png": "[encoded data removed]"
          },
          "metadata": {
            "needs_background": "light"
          }
        }
      ],
      "execution_count": 264,
      "metadata": {
        "collapsed": false,
        "outputHidden": false,
        "inputHidden": false
      }
    },
    {
      "cell_type": "code",
      "source": [
        "#payment.payment_type.unique()\n",
        "\n",
        "payment['payment_type'].value_counts() #frequency of e/ item in a column"
      ],
      "outputs": [
        {
          "output_type": "execute_result",
          "execution_count": 250,
          "data": {
            "text/plain": [
              "credit_card    76795\n",
              "boleto         19784\n",
              "voucher         5775\n",
              "debit_card      1529\n",
              "not_defined        3\n",
              "Name: payment_type, dtype: int64"
            ]
          },
          "metadata": {}
        }
      ],
      "execution_count": 250,
      "metadata": {
        "collapsed": false,
        "outputHidden": false,
        "inputHidden": false
      }
    },
    {
      "cell_type": "code",
      "source": [
        "payment.hist(figsize=(20,20))\n",
        "plt.show()"
      ],
      "outputs": [
        {
          "output_type": "display_data",
          "data": {
            "text/plain": [
              "<Figure size 1440x1440 with 4 Axes>"
            ],
            "image/png": "[encoded data removed]"
          },
          "metadata": {
            "needs_background": "light"
          }
        }
      ],
      "execution_count": 260,
      "metadata": {
        "collapsed": false,
        "outputHidden": false,
        "inputHidden": false
      }
    },
    {
      "cell_type": "code",
      "source": [],
      "outputs": [],
      "execution_count": null,
      "metadata": {
        "collapsed": false,
        "outputHidden": false,
        "inputHidden": false
      }
    }
  ],
  "metadata": {
    "kernel_info": {
      "name": "python3"
    },
    "language_info": {
      "name": "python",
      "version": "3.7.3",
      "mimetype": "text/x-python",
      "codemirror_mode": {
        "name": "ipython",
        "version": 3
      },
      "pygments_lexer": "ipython3",
      "nbconvert_exporter": "python",
      "file_extension": ".py"
    },
    "kernelspec": {
      "name": "python3",
      "language": "python",
      "display_name": "Python 3"
    },
    "nteract": {
      "version": "0.14.3"
    }
  },
  "nbformat": 4,
  "nbformat_minor": 0
}