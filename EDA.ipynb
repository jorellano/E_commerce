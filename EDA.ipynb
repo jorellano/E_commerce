{
  "cells": [
    {
      "cell_type": "markdown",
      "source": [
        "# Understand Brazilian E-commerce co.\n",
        "\n"
      ],
      "metadata": {}
    },
    {
      "cell_type": "code",
      "source": [
        "# Import all of the libraries \n",
        "import pandas as pd\n",
        "import numpy as np\n",
        "import matplotlib.pyplot as plt\n",
        "import seaborn as sns\n",
        "from plotnine import *\n",
        "import matplotlib as mpl\n",
        "#import plotly.plotly as py\n",
        "import plotly.tools as tls\n",
        "import pandas_profiling\n",
        "mpl.rcParams['patch.force_edgecolor'] = True\n",
        "%matplotlib inline\n",
        "import datetime as dt"
      ],
      "outputs": [],
      "execution_count": null,
      "metadata": {
        "collapsed": false,
        "inputHidden": false,
        "outputHidden": false
      }
    },
    {
      "cell_type": "code",
      "source": [
        "ls"
      ],
      "outputs": [],
      "execution_count": null,
      "metadata": {
        "collapsed": false,
        "inputHidden": false,
        "outputHidden": false
      }
    },
    {
      "cell_type": "code",
      "source": [
        "customer = pd.read_csv(\"olist_customers_dataset.csv\")              \n",
        "location = pd.read_csv(\"olist_geolocation_dataset.csv\")\n",
        "order_items = pd.read_csv(\"olist_order_items_dataset.csv\")\n",
        "payment = pd.read_csv(\"olist_order_payments_dataset.csv\")\n",
        "review = pd.read_csv(\"olist_order_reviews_dataset.csv\")\n",
        "orders = pd.read_csv(\"olist_orders_dataset.csv\")\n",
        "product = pd.read_csv(\"olist_products_dataset.csv\")\n",
        "seller = pd.read_csv(\"olist_sellers_dataset.csv\")\n",
        "product_name = pd.read_csv(\"product_category_name_translation.csv\")\n",
        "\n",
        "\n",
        "\n",
        "#orders.isnull().values.any()\n",
        "\n",
        "orders.isnull().sum()\n"
      ],
      "outputs": [],
      "execution_count": null,
      "metadata": {
        "collapsed": false,
        "inputHidden": false,
        "outputHidden": false
      }
    },
    {
      "cell_type": "code",
      "source": [
        "stat_cat = orders['order_status'].unique().tolist()\n",
        "stat_cat"
      ],
      "outputs": [],
      "execution_count": null,
      "metadata": {
        "collapsed": false,
        "inputHidden": false,
        "outputHidden": false
      }
    },
    {
      "cell_type": "code",
      "source": [
        "status_cat = pd.Categorical(orders['order_status'], categories=stat_cat, ordered=False)\n",
        "status_cat\n",
        "                           "
      ],
      "outputs": [],
      "execution_count": null,
      "metadata": {
        "collapsed": false,
        "inputHidden": false,
        "outputHidden": false
      }
    },
    {
      "cell_type": "code",
      "source": [
        "#reassign status_cat to original \"order_Status col\n",
        "orders['order_status'] = status_cat"
      ],
      "outputs": [],
      "execution_count": null,
      "metadata": {
        "collapsed": false,
        "inputHidden": false,
        "outputHidden": false
      }
    },
    {
      "cell_type": "code",
      "source": [
        "\n",
        "\n",
        "#do the same to product_name_category\n",
        "\n",
        "cat_name = product['product_category_name'].unique().tolist()\n",
        "product['product_category_name'] = pd.Categorical(product['product_category_name'], categories=cat_name, ordered=False)\n",
        "product['product_category_name'].describe()\n",
        "\n",
        "\n"
      ],
      "outputs": [],
      "execution_count": null,
      "metadata": {
        "collapsed": false,
        "inputHidden": false,
        "outputHidden": false
      }
    },
    {
      "cell_type": "code",
      "source": [
        "review['review_score'].describe()"
      ],
      "outputs": [],
      "execution_count": null,
      "metadata": {
        "collapsed": false,
        "inputHidden": false,
        "outputHidden": false
      }
    },
    {
      "cell_type": "code",
      "source": [
        "#capitalize first character of each word\n",
        "customer['customer_city'] = customer['customer_city'].str.title()\n",
        "customer['customer_state'] = customer['customer_state'].str.upper()\n",
        "customer['customer_state'].value_counts().head(7)"
      ],
      "outputs": [],
      "execution_count": null,
      "metadata": {
        "collapsed": false,
        "inputHidden": false,
        "outputHidden": false
      }
    },
    {
      "cell_type": "code",
      "source": [
        "review['review_comment_title'] = review['review_comment_title'].str.strip().str.lower()"
      ],
      "outputs": [],
      "execution_count": null,
      "metadata": {
        "collapsed": false,
        "inputHidden": false,
        "outputHidden": false
      }
    },
    {
      "cell_type": "code",
      "source": [
        "product['product_category_name']"
      ],
      "outputs": [],
      "execution_count": null,
      "metadata": {
        "collapsed": false,
        "inputHidden": false,
        "outputHidden": false
      }
    },
    {
      "cell_type": "code",
      "source": [
        "#replace underline w/ spaces\n",
        "product['product_category_name'] = product['product_category_name'].str.replace('_',' ').str.lower()\n",
        "product['product_category_name'].value_counts().head(13)"
      ],
      "outputs": [],
      "execution_count": null,
      "metadata": {
        "collapsed": false,
        "inputHidden": false,
        "outputHidden": false
      }
    },
    {
      "cell_type": "code",
      "source": [
        "to_eng_cat_name = product['product_category_name'].unique().tolist()\n",
        "to_eng_cat_name[0]"
      ],
      "outputs": [],
      "execution_count": null,
      "metadata": {
        "collapsed": false,
        "inputHidden": false,
        "outputHidden": false
      }
    },
    {
      "cell_type": "code",
      "source": [
        "#This took me too long to understand.\n",
        "orders[\"order_estimated_delivery_date\"] = pd.to_datetime(orders[\"order_estimated_delivery_date\"])#make the columns into datetime.\n",
        "orders[\"order_delivered_customer_date\"] = pd.to_datetime(orders[\"order_delivered_customer_date\"])\n",
        "\n",
        "orders[\"duration_in_days\"] = (orders[\"order_estimated_delivery_date\"] - orders[\"order_delivered_customer_date\"])/np.timedelta64(1, 'D')\n",
        "#subtract estimated delivery by actual date received\n",
        "\n"
      ],
      "outputs": [],
      "execution_count": null,
      "metadata": {
        "collapsed": false,
        "inputHidden": false,
        "outputHidden": false
      }
    },
    {
      "cell_type": "code",
      "source": [
        "orders['duration_in_days'].plot(kind='hist', bins=50)"
      ],
      "outputs": [],
      "execution_count": null,
      "metadata": {
        "collapsed": false,
        "inputHidden": false,
        "outputHidden": false
      }
    },
    {
      "cell_type": "code",
      "source": [
        "orders['on_time'] = ((orders['order_estimated_delivery_date'] - orders['order_delivered_customer_date'])/(np.timedelta64(1, 'D')))\n"
      ],
      "outputs": [],
      "execution_count": null,
      "metadata": {
        "collapsed": false,
        "inputHidden": false,
        "outputHidden": false
      }
    },
    {
      "cell_type": "code",
      "source": [
        "order_items['total_value'] = order_items['price'].add(order_items['freight_value']) #create new column with price & freight included\n",
        "\n",
        "\n"
      ],
      "outputs": [],
      "execution_count": null,
      "metadata": {
        "collapsed": false,
        "inputHidden": false,
        "outputHidden": false
      }
    },
    {
      "cell_type": "code",
      "source": [
        "order_items.head()"
      ],
      "outputs": [],
      "execution_count": null,
      "metadata": {}
    },
    {
      "cell_type": "markdown",
      "source": [
        "# 2. Visualizations\n",
        "\n",
        "### Data is better understood when it is visualized\n",
        "\n",
        "\n",
        "\n"
      ],
      "metadata": {}
    },
    {
      "cell_type": "code",
      "source": [
        "order_items['order_item_id'].value_counts().sort_index()"
      ],
      "outputs": [],
      "execution_count": null,
      "metadata": {
        "collapsed": false,
        "inputHidden": false,
        "outputHidden": false
      }
    },
    {
      "cell_type": "code",
      "source": [
        "order_items.groupby('order_item_id')['total_value'].mean().plot(kind='bar',figsize=(12,5))\n",
        "\n",
        "\n"
      ],
      "outputs": [],
      "execution_count": null,
      "metadata": {
        "collapsed": false,
        "inputHidden": false,
        "outputHidden": false
      }
    },
    {
      "cell_type": "code",
      "source": [
        "seller['seller_state'].hist(bins=10)\n",
        "seller['seller_state'].hist(bins=10, grid=False, xlabelsize=12, ylabelsize=12)\n",
        "plt.xlabel(\"City\", fontsize=15)\n",
        "plt.ylabel(\"total_orders\",fontsize=15)\n",
        "plt.xlim()\n",
        "#most of the orders come from Sao Paolo, nearly 60% of orders come from SP\n",
        "\n",
        "\n",
        "#seller['seller_state'].describe()\n",
        "#seller['seller_state'].value_counts()"
      ],
      "outputs": [],
      "execution_count": null,
      "metadata": {
        "collapsed": false,
        "inputHidden": false,
        "outputHidden": false
      }
    },
    {
      "cell_type": "code",
      "source": [
        "sns.set_style(\"whitegrid\")\n",
        "plt.figure(figsize=(12,6))\n",
        "sns.distplot(order_items['total_value'], bins=800 ,kde=False, color='b')\n",
        "plt.xlim([0, 600])"
      ],
      "outputs": [],
      "execution_count": null,
      "metadata": {
        "collapsed": false,
        "inputHidden": false,
        "outputHidden": false
      }
    },
    {
      "cell_type": "markdown",
      "source": [
        "`As expected, we got right skewed histogram for total_value column - most of the time, people buy cheaply priced goods on olist`"
      ],
      "metadata": {
        "inputHidden": false,
        "outputHidden": false
      }
    },
    {
      "cell_type": "code",
      "source": [
        "# need to figure out this part BRB later\n",
        "state_grouped = (customer.groupby('customer_state')(order_items[['price'])"
      ],
      "outputs": [],
      "execution_count": null,
      "metadata": {}
    },
    {
      "cell_type": "code",
      "source": [
        "#customer.head()\n",
        "order_items.head()\n",
        "#review.head()\n"
      ],
      "outputs": [],
      "execution_count": null,
      "metadata": {}
    },
    {
      "cell_type": "code",
      "source": [],
      "outputs": [],
      "execution_count": null,
      "metadata": {
        "collapsed": false,
        "inputHidden": false,
        "outputHidden": false
      }
    },
    {
      "cell_type": "code",
      "source": [
        "payment['payment_type'].hist(bins=10)\n",
        "#boleto means check"
      ],
      "outputs": [],
      "execution_count": null,
      "metadata": {
        "collapsed": false,
        "inputHidden": false,
        "outputHidden": false
      }
    },
    {
      "cell_type": "code",
      "source": [
        "#payment.payment_type.unique()\n",
        "\n",
        "payment['payment_type'].value_counts() #frequency of e/ item in a column"
      ],
      "outputs": [],
      "execution_count": null,
      "metadata": {
        "collapsed": false,
        "inputHidden": false,
        "outputHidden": false
      }
    },
    {
      "cell_type": "code",
      "source": [
        "print(\"Dataframe shape: \", orders_dropped.shape)\n",
        "dt = (orders_dropped.index[-1] - orders_dropped.index[0])\n",
        "print(\"Number of hours between start and end dates: \", dt.total_seconds()/3600 + 1)"
      ],
      "outputs": [],
      "execution_count": null,
      "metadata": {}
    },
    {
      "cell_type": "code",
      "source": [
        "df1.head()"
      ],
      "outputs": [],
      "execution_count": null,
      "metadata": {}
    },
    {
      "cell_type": "code",
      "source": [
        "df1 = df1.sort_values(by='order_purchase_timestamp') #sort dates first to last\n",
        "\n"
      ],
      "outputs": [],
      "execution_count": null,
      "metadata": {}
    },
    {
      "cell_type": "code",
      "source": [
        "df1.head()"
      ],
      "outputs": [],
      "execution_count": null,
      "metadata": {}
    },
    {
      "cell_type": "markdown",
      "source": [
        "# Total sales volume"
      ],
      "metadata": {}
    },
    {
      "cell_type": "code",
      "source": [
        "df1['order_purchase_timestamp'].plot(linewidth=0.8)"
      ],
      "outputs": [],
      "execution_count": null,
      "metadata": {}
    },
    {
      "cell_type": "code",
      "source": [
        "df1.info()"
      ],
      "outputs": [],
      "execution_count": null,
      "metadata": {}
    },
    {
      "cell_type": "code",
      "source": [
        "df1['order_purchase_timestamp'].plot(linewidth=0.5);"
      ],
      "outputs": [],
      "execution_count": null,
      "metadata": {}
    },
    {
      "cell_type": "code",
      "source": [
        "df1.query()"
      ],
      "outputs": [],
      "execution_count": null,
      "metadata": {}
    },
    {
      "cell_type": "code",
      "source": [
        "orders.query()"
      ],
      "outputs": [],
      "execution_count": null,
      "metadata": {}
    },
    {
      "cell_type": "code",
      "source": [
        "seller.profile_report(style={'full_width':True})"
      ],
      "outputs": [],
      "execution_count": null,
      "metadata": {}
    },
    {
      "cell_type": "code",
      "source": [
        "review[:1:]"
      ],
      "outputs": [],
      "execution_count": null,
      "metadata": {}
    },
    {
      "cell_type": "code",
      "source": [],
      "outputs": [],
      "execution_count": null,
      "metadata": {}
    }
  ],
  "metadata": {
    "kernel_info": {
      "name": "python3"
    },
    "kernelspec": {
      "display_name": "Python 3",
      "language": "python",
      "name": "python3"
    },
    "language_info": {
      "name": "python",
      "version": "3.7.3",
      "mimetype": "text/x-python",
      "codemirror_mode": {
        "name": "ipython",
        "version": 3
      },
      "pygments_lexer": "ipython3",
      "nbconvert_exporter": "python",
      "file_extension": ".py"
    },
    "nteract": {
      "version": "0.21.0"
    }
  },
  "nbformat": 4,
  "nbformat_minor": 2
}