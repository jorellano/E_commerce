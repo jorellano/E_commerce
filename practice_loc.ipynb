{
 "cells": [
  {
   "cell_type": "markdown",
   "metadata": {},
   "source": [
    "# - .loc **for labels**\n",
    "# - .iloc **for positions**\n",
    "\n"
   ]
  },
  {
   "cell_type": "code",
   "execution_count": 106,
   "metadata": {},
   "outputs": [],
   "source": [
    "\"\"\"\n",
    "An example illustrating how to index pandas DataFrames. \n",
    "\"\"\"\n",
    "import numpy as np\n",
    "import pandas as pd\n",
    "\n",
    "mtns = pd.DataFrame([\n",
    "    {'name': 'Mount Everest',\n",
    "        'height (m)': 8848,\n",
    "        'summited': 1953,\n",
    "        'mountain range': 'Mahalangur Himalaya'},\n",
    "    {'name': 'K2',\n",
    "        'height (m)': 8611,\n",
    "        'summited': 1954,\n",
    "        'mountain range': 'Baltoro Karakoram'},\n",
    "    {'name': 'Kangchenjunga',\n",
    "        'height (m)': 8586,\n",
    "        'summited': 1955,\n",
    "        'mountain range': 'Kangchenjunga Himalaya'},\n",
    "    {'name': 'Lhotse',\n",
    "        'height (m)': 8516,\n",
    "        'summited': 1956,\n",
    "        'mountain range': 'Mahalangur Himalaya'},\n",
    "])\n",
    "mtns.set_index('name', inplace=True)\n",
    "\n"
   ]
  },
  {
   "cell_type": "code",
   "execution_count": 95,
   "metadata": {},
   "outputs": [
    {
     "name": "stdout",
     "output_type": "stream",
     "text": [
      "               height (m)          mountain range  summited\n",
      "name                                                       \n",
      "Mount Everest        8848     Mahalangur Himalaya      1953\n",
      "K2                   8611       Baltoro Karakoram      1954\n",
      "Kangchenjunga        8586  Kangchenjunga Himalaya      1955\n",
      "Lhotse               8516     Mahalangur Himalaya      1956\n"
     ]
    }
   ],
   "source": [
    "\n",
    "#dataframe of the highest mountains in the world\n",
    "print(mtns)"
   ]
  },
  {
   "cell_type": "markdown",
   "metadata": {},
   "source": [
    "# loc\n"
   ]
  },
  {
   "cell_type": "code",
   "execution_count": 101,
   "metadata": {},
   "outputs": [
    {
     "name": "stdout",
     "output_type": "stream",
     "text": [
      "name\n",
      "Mount Everest    1953\n",
      "K2               1954\n",
      "Kangchenjunga    1955\n",
      "Lhotse           1956\n",
      "Name: summited, dtype: int64\n",
      "\n",
      "[1953 1954 1955 1956]\n",
      "=====================================================\n",
      "height (m)                     8611\n",
      "mountain range    Baltoro Karakoram\n",
      "summited                       1954\n",
      "Name: K2, dtype: object\n",
      "=====================================================\n",
      "1954\n",
      "=====================================================\n",
      "        height (m)       mountain range  summited\n",
      "name                                             \n",
      "K2            8611    Baltoro Karakoram      1954\n",
      "Lhotse        8516  Mahalangur Himalaya      1956\n"
     ]
    }
   ],
   "source": [
    "#select a colimn by a name (label)\n",
    "\n",
    "print(mtns.loc[:, 'summited']) #gives only summited column in the form of a series\n",
    "print()# make space between e/ print statement\n",
    "print(mtns.loc[:, 'summited'].values)#if we want an array of nums, add .values\n",
    "print('=====================================================')\n",
    "print(mtns.loc['K2', :])# select a row by label\n",
    "# here we are interested in all the rows, so we include the colon (:)\n",
    "#retuns a \n",
    "print('=====================================================')\n",
    "print(mtns.loc['K2','summited']) #row always comes first\n",
    "print('=====================================================')\n",
    "\n",
    "print(mtns.loc[['K2', \"Lhotse\"],:])\n"
   ]
  },
  {
   "cell_type": "code",
   "execution_count": 103,
   "metadata": {},
   "outputs": [
    {
     "name": "stdout",
     "output_type": "stream",
     "text": [
      "               height (m)          mountain range  summited\n",
      "name                                                       \n",
      "Mount Everest        8848     Mahalangur Himalaya      1953\n",
      "K2                   8611       Baltoro Karakoram      1954\n",
      "Kangchenjunga        8586  Kangchenjunga Himalaya      1955\n",
      "Lhotse               8516     Mahalangur Himalaya      1956\n",
      "============================================================\n",
      "\n",
      "               height (m)          mountain range  summited\n",
      "name                                                       \n",
      "Kangchenjunga        8586  Kangchenjunga Himalaya      1955\n",
      "Lhotse               8516     Mahalangur Himalaya      1956\n",
      "============================================================\n"
     ]
    }
   ],
   "source": [
    "#select several consecutive columnbs by label\n",
    "print(mtns.loc[:,: 'summited'])\n",
    "print('============================================================')\n",
    "print()\n",
    "#select rows based on a column value\n",
    "print(mtns.loc[mtns.loc[:,'summited']>1954])\n",
    "#select row by position\n",
    "print('============================================================')\n"
   ]
  },
  {
   "cell_type": "markdown",
   "metadata": {},
   "source": [
    "# iloc\n"
   ]
  },
  {
   "cell_type": "code",
   "execution_count": 105,
   "metadata": {},
   "outputs": [
    {
     "name": "stdout",
     "output_type": "stream",
     "text": [
      "height (m)                       8848\n",
      "mountain range    Mahalangur Himalaya\n",
      "summited                         1953\n",
      "Name: Mount Everest, dtype: object\n",
      "=====================================================\n",
      "name\n",
      "Mount Everest    1953\n",
      "K2               1954\n",
      "Kangchenjunga    1955\n",
      "Lhotse           1956\n",
      "Name: summited, dtype: int64\n",
      "=====================================================\n",
      "1953\n",
      "=====================================================\n",
      "        height (m)       mountain range  summited\n",
      "name                                             \n",
      "K2            8611    Baltoro Karakoram      1954\n",
      "Lhotse        8516  Mahalangur Himalaya      1956\n",
      "=====================================================\n",
      "               height (m)          mountain range\n",
      "name                                             \n",
      "Mount Everest        8848     Mahalangur Himalaya\n",
      "K2                   8611       Baltoro Karakoram\n",
      "Kangchenjunga        8586  Kangchenjunga Himalaya\n",
      "Lhotse               8516     Mahalangur Himalaya\n"
     ]
    }
   ],
   "source": [
    "#select row by position\n",
    "\n",
    "print(mtns.iloc[0,:])\n",
    "print('=====================================================')\n",
    "print(mtns.iloc[:,2])\n",
    "print('=====================================================')\n",
    "# Select a row & column value by position\n",
    "print(mtns.iloc[0, 2])\n",
    "print('=====================================================')\n",
    "#select several rows by position\n",
    "print(mtns.iloc[[1, 3],:])\n",
    "print('=====================================================')\n",
    "print(mtns.iloc[:,0:2 ])"
   ]
  },
  {
   "cell_type": "code",
   "execution_count": 90,
   "metadata": {},
   "outputs": [
    {
     "data": {
      "text/html": [
       "<div>\n",
       "<style scoped>\n",
       "    .dataframe tbody tr th:only-of-type {\n",
       "        vertical-align: middle;\n",
       "    }\n",
       "\n",
       "    .dataframe tbody tr th {\n",
       "        vertical-align: top;\n",
       "    }\n",
       "\n",
       "    .dataframe thead th {\n",
       "        text-align: right;\n",
       "    }\n",
       "</style>\n",
       "<table border=\"1\" class=\"dataframe\">\n",
       "  <thead>\n",
       "    <tr style=\"text-align: right;\">\n",
       "      <th></th>\n",
       "      <th>height (m)</th>\n",
       "      <th>mountain range</th>\n",
       "      <th>summited</th>\n",
       "    </tr>\n",
       "    <tr>\n",
       "      <th>name</th>\n",
       "      <th></th>\n",
       "      <th></th>\n",
       "      <th></th>\n",
       "    </tr>\n",
       "  </thead>\n",
       "  <tbody>\n",
       "    <tr>\n",
       "      <th>Mount Everest</th>\n",
       "      <td>8848</td>\n",
       "      <td>Mahalangur Himalaya</td>\n",
       "      <td>1953</td>\n",
       "    </tr>\n",
       "    <tr>\n",
       "      <th>K2</th>\n",
       "      <td>8611</td>\n",
       "      <td>Baltoro Karakoram</td>\n",
       "      <td>1954</td>\n",
       "    </tr>\n",
       "    <tr>\n",
       "      <th>Kangchenjunga</th>\n",
       "      <td>8586</td>\n",
       "      <td>Kangchenjunga Himalaya</td>\n",
       "      <td>1955</td>\n",
       "    </tr>\n",
       "    <tr>\n",
       "      <th>Lhotse</th>\n",
       "      <td>8516</td>\n",
       "      <td>Mahalangur Himalaya</td>\n",
       "      <td>1956</td>\n",
       "    </tr>\n",
       "  </tbody>\n",
       "</table>\n",
       "</div>"
      ],
      "text/plain": [
       "               height (m)          mountain range  summited\n",
       "name                                                       \n",
       "Mount Everest        8848     Mahalangur Himalaya      1953\n",
       "K2                   8611       Baltoro Karakoram      1954\n",
       "Kangchenjunga        8586  Kangchenjunga Himalaya      1955\n",
       "Lhotse               8516     Mahalangur Himalaya      1956"
      ]
     },
     "execution_count": 90,
     "metadata": {},
     "output_type": "execute_result"
    }
   ],
   "source": []
  },
  {
   "cell_type": "code",
   "execution_count": null,
   "metadata": {},
   "outputs": [],
   "source": []
  },
  {
   "cell_type": "code",
   "execution_count": null,
   "metadata": {},
   "outputs": [],
   "source": []
  },
  {
   "cell_type": "code",
   "execution_count": null,
   "metadata": {},
   "outputs": [],
   "source": []
  },
  {
   "cell_type": "code",
   "execution_count": 9,
   "metadata": {},
   "outputs": [],
   "source": []
  },
  {
   "cell_type": "code",
   "execution_count": 25,
   "metadata": {},
   "outputs": [],
   "source": []
  },
  {
   "cell_type": "code",
   "execution_count": 27,
   "metadata": {},
   "outputs": [],
   "source": []
  },
  {
   "cell_type": "code",
   "execution_count": null,
   "metadata": {},
   "outputs": [],
   "source": []
  },
  {
   "cell_type": "code",
   "execution_count": null,
   "metadata": {},
   "outputs": [],
   "source": []
  }
 ],
 "metadata": {
  "kernelspec": {
   "display_name": "Python 3",
   "language": "python",
   "name": "python3"
  },
  "language_info": {
   "codemirror_mode": {
    "name": "ipython",
    "version": 3
   },
   "file_extension": ".py",
   "mimetype": "text/x-python",
   "name": "python",
   "nbconvert_exporter": "python",
   "pygments_lexer": "ipython3",
   "version": "3.7.3"
  }
 },
 "nbformat": 4,
 "nbformat_minor": 2
}
