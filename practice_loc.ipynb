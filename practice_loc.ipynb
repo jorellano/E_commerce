{
 "cells": [
  {
   "cell_type": "code",
   "execution_count": 30,
   "metadata": {},
   "outputs": [],
   "source": [
    "\"\"\"\n",
    "An example illustrating how to index pandas DataFrames. \n",
    "\"\"\"\n",
    "import numpy as np\n",
    "import pandas as pd\n",
    "\n",
    "mtns = pd.DataFrame([\n",
    "    {'name': 'Mount Everest',\n",
    "        'height (m)': 8848,\n",
    "        'summited': 1953,\n",
    "        'mountain range': 'Mahalangur Himalaya'},\n",
    "    {'name': 'K2',\n",
    "        'height (m)': 8611,\n",
    "        'summited': 1954,\n",
    "        'mountain range': 'Baltoro Karakoram'},\n",
    "    {'name': 'Kangchenjunga',\n",
    "        'height (m)': 8586,\n",
    "        'summited': 1955,\n",
    "        'mountain range': 'Kangchenjunga Himalaya'},\n",
    "    {'name': 'Lhotse',\n",
    "        'height (m)': 8516,\n",
    "        'summited': 1956,\n",
    "        'mountain range': 'Mahalangur Himalaya'},\n",
    "])\n",
    "mtns.set_index('name', inplace=True)\n",
    "\n"
   ]
  },
  {
   "cell_type": "code",
   "execution_count": 36,
   "metadata": {},
   "outputs": [
    {
     "name": "stdout",
     "output_type": "stream",
     "text": [
      "               height (m)          mountain range  summited\n",
      "name                                                       \n",
      "Mount Everest        8848     Mahalangur Himalaya      1953\n",
      "K2                   8611       Baltoro Karakoram      1954\n",
      "Kangchenjunga        8586  Kangchenjunga Himalaya      1955\n",
      "Lhotse               8516     Mahalangur Himalaya      1956\n"
     ]
    }
   ],
   "source": [
    "\n",
    "#dataframe of the highest mountains in the world\n",
    "print(mtns)"
   ]
  },
  {
   "cell_type": "code",
   "execution_count": 48,
   "metadata": {},
   "outputs": [
    {
     "name": "stdout",
     "output_type": "stream",
     "text": [
      "name\n",
      "Mount Everest    1953\n",
      "K2               1954\n",
      "Kangchenjunga    1955\n",
      "Lhotse           1956\n",
      "Name: summited, dtype: int64\n",
      "\n",
      "[1953 1954 1955 1956]\n",
      "\n",
      "height (m)                     8611\n",
      "mountain range    Baltoro Karakoram\n",
      "summited                       1954\n",
      "Name: K2, dtype: object\n"
     ]
    }
   ],
   "source": [
    "#select a colimn by a name (label)\n",
    "\n",
    "print(mtns.loc[:, 'summited']) #gives only summited column in the form of a series\n",
    "print()# make space between e/ print statement\n",
    "print(mtns.loc[:, 'summited'].values)#if we want an array of nums, add .values\n",
    "print()\n",
    "print(mtns.loc['K2', :])# select a row by label\n",
    "# here we are interested in all the rows, so we include the colon (:)\n",
    "#retuns a series"
   ]
  },
  {
   "cell_type": "code",
   "execution_count": null,
   "metadata": {},
   "outputs": [],
   "source": []
  },
  {
   "cell_type": "code",
   "execution_count": null,
   "metadata": {},
   "outputs": [],
   "source": []
  },
  {
   "cell_type": "code",
   "execution_count": null,
   "metadata": {},
   "outputs": [],
   "source": []
  },
  {
   "cell_type": "code",
   "execution_count": 35,
   "metadata": {},
   "outputs": [
    {
     "name": "stdout",
     "output_type": "stream",
     "text": [
      "height (m)                       8848\n",
      "mountain range    Mahalangur Himalaya\n",
      "summited                         1953\n",
      "Name: Mount Everest, dtype: object\n"
     ]
    }
   ],
   "source": [
    "#select a row by position\n",
    "\n",
    "print(mtns.iloc[0,:])"
   ]
  },
  {
   "cell_type": "code",
   "execution_count": null,
   "metadata": {},
   "outputs": [],
   "source": []
  },
  {
   "cell_type": "code",
   "execution_count": null,
   "metadata": {},
   "outputs": [],
   "source": [
    "# select a row and column value by position\n",
    "\n",
    "mtns.il"
   ]
  },
  {
   "cell_type": "code",
   "execution_count": 9,
   "metadata": {},
   "outputs": [],
   "source": []
  },
  {
   "cell_type": "code",
   "execution_count": 25,
   "metadata": {},
   "outputs": [],
   "source": []
  },
  {
   "cell_type": "code",
   "execution_count": 27,
   "metadata": {},
   "outputs": [],
   "source": []
  },
  {
   "cell_type": "code",
   "execution_count": null,
   "metadata": {},
   "outputs": [],
   "source": []
  },
  {
   "cell_type": "code",
   "execution_count": null,
   "metadata": {},
   "outputs": [],
   "source": []
  }
 ],
 "metadata": {
  "kernelspec": {
   "display_name": "Python 3",
   "language": "python",
   "name": "python3"
  },
  "language_info": {
   "codemirror_mode": {
    "name": "ipython",
    "version": 3
   },
   "file_extension": ".py",
   "mimetype": "text/x-python",
   "name": "python",
   "nbconvert_exporter": "python",
   "pygments_lexer": "ipython3",
   "version": "3.7.3"
  }
 },
 "nbformat": 4,
 "nbformat_minor": 2
}
